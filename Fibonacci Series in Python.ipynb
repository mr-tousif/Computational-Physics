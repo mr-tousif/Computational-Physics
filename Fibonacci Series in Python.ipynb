{
 "cells": [
  {
   "cell_type": "markdown",
   "id": "d8385596",
   "metadata": {},
   "source": [
    "Fibonacci Sequence in Python:\n",
    "\n",
    "$$F_{n}=F_{n-1}+F_{n-2}$$ with $F_0=0$ and $F_1=1$\n",
    "                               \n",
    "                               0,1,1,2,3,5,8,13,21,34 and so on \n",
    "                               We see each term in the series is sum of previous two terms"
   ]
  },
  {
   "cell_type": "code",
   "execution_count": 10,
   "id": "84c63624",
   "metadata": {},
   "outputs": [],
   "source": [
    "# Method 1: Using Recursion Relation"
   ]
  },
  {
   "cell_type": "code",
   "execution_count": 19,
   "id": "947e6dd9",
   "metadata": {},
   "outputs": [
    {
     "name": "stdout",
     "output_type": "stream",
     "text": [
      "0\n",
      "1\n",
      "1\n",
      "2\n",
      "3\n",
      "5\n",
      "8\n",
      "13\n",
      "21\n",
      "34\n"
     ]
    }
   ],
   "source": [
    "def fibonacci(n):\n",
    "    if n==1:          #if (n==1):\n",
    "        return 0\n",
    "    elif n==2:        #if(n==2):\n",
    "        return 1\n",
    "    else:             #retrn fibonacci(n-1)+fibonacci(n-2)\n",
    "        return fibonacci(n-1)+fibonacci(n-2)  #sum of two previous terms to give next term in the series\n",
    "    \n",
    "n=10  #upto tenth term in series\n",
    "for i in range(1,n+1):\n",
    "    print(fibonacci(i))   # function argument is dummy index, you could take print(fibonacci(n))"
   ]
  },
  {
   "cell_type": "markdown",
   "id": "dd369eb1",
   "metadata": {},
   "source": [
    "Cooments how it works:\n",
    "\n",
    "Step1:\n",
    "\n",
    "for loop start with i=1 in range function , when i=1, print(fibonacci(1)) will excute in the for loop, this goes to  to the main function and there it will call fibonacci(1), now inside main function we have if n==1 condition, so if n==1 statement is true  because our case i=n=1 , this will return 0 (this is the first term in the series). \n",
    "\n",
    "Step2:\n",
    "\n",
    "Next when i=2 in the range function,  print(fibonacci(2)) will excute in the for loop, this goes to  to the main function and there it will call fibonacci(2), now inside main function we have if n==2 condition which returns 1, so if n==2 statement is true  because our case i=n=1 , this will return 1 (this is the second term in the series). \n",
    "\n",
    "So in two steps we have succesfullly generated first two terms in the series now we want to generate third terms in the series and you know third term in fibonacci series is sum of first and second terms.\n",
    "\n",
    "Next when i=3 in the range function, print(fibonacci(3)) will excute in the for loop, this goes to the main function and there it will call fibonacci(3), now inside main function we have n=3, and for n=3 if n==1 and n==2 statements are false and so it goes to the third statement else which returns third terms which is basically sum of first two terms) \n",
    "\n",
    "and so on "
   ]
  },
  {
   "cell_type": "code",
   "execution_count": 12,
   "id": "2fe6ccde",
   "metadata": {},
   "outputs": [],
   "source": [
    "#Method 2: Using series sequence method"
   ]
  },
  {
   "cell_type": "code",
   "execution_count": 13,
   "id": "6b35a9fd",
   "metadata": {},
   "outputs": [
    {
     "name": "stdout",
     "output_type": "stream",
     "text": [
      "0\n",
      "1\n",
      "1\n",
      "2\n",
      "3\n",
      "5\n",
      "8\n",
      "13\n",
      "21\n",
      "34\n"
     ]
    }
   ],
   "source": [
    "def Fibonacci(n):\n",
    "    a=0   #Initialization first number in the Fibonacci series F_0=0\n",
    "    b=1   # Second number in the Fibonacci series F_1=1\n",
    "    \n",
    "    print(a)\n",
    "    print(b)\n",
    "    \n",
    "    for i in range(2,n):\n",
    "        #print(a+b)\n",
    "        c=a+b\n",
    "        a=b\n",
    "        b=c\n",
    "        print(c)\n",
    "        \n",
    "Fibonacci(10)  #First 10 numbers of the Fibonacci Series"
   ]
  },
  {
   "cell_type": "code",
   "execution_count": 14,
   "id": "92d2efdb",
   "metadata": {},
   "outputs": [
    {
     "name": "stdout",
     "output_type": "stream",
     "text": [
      "0\n",
      "1\n"
     ]
    }
   ],
   "source": [
    "Fibonacci(1)  #Even calling first number giving me two values of sequence"
   ]
  },
  {
   "cell_type": "code",
   "execution_count": 15,
   "id": "5fd55f3c",
   "metadata": {},
   "outputs": [],
   "source": [
    "def Fibonacci(n):\n",
    "    a=0\n",
    "    b=1\n",
    "    if n==1: \n",
    "        print(a)\n",
    "    else:\n",
    "        print(a)\n",
    "        print(b)\n",
    "    for i in range(2,n):\n",
    "        #print(a+b)\n",
    "        c=a+b\n",
    "        a=b\n",
    "        b=c\n",
    "        print(c)\n",
    "        "
   ]
  },
  {
   "cell_type": "code",
   "execution_count": 16,
   "id": "f725b450",
   "metadata": {},
   "outputs": [
    {
     "name": "stdout",
     "output_type": "stream",
     "text": [
      "0\n"
     ]
    }
   ],
   "source": [
    "Fibonacci(1)  # first number in the series code working well"
   ]
  },
  {
   "cell_type": "code",
   "execution_count": 17,
   "id": "901bdf91",
   "metadata": {},
   "outputs": [
    {
     "name": "stdout",
     "output_type": "stream",
     "text": [
      "0\n",
      "1\n",
      "1\n",
      "2\n",
      "3\n",
      "5\n",
      "8\n",
      "13\n",
      "21\n",
      "34\n"
     ]
    }
   ],
   "source": [
    "Fibonacci(10) #here n>1 so else part of the loop is true and will excute to give result"
   ]
  },
  {
   "cell_type": "code",
   "execution_count": null,
   "id": "bb5b83f5",
   "metadata": {},
   "outputs": [],
   "source": []
  }
 ],
 "metadata": {
  "kernelspec": {
   "display_name": "Python 3 (ipykernel)",
   "language": "python",
   "name": "python3"
  },
  "language_info": {
   "codemirror_mode": {
    "name": "ipython",
    "version": 3
   },
   "file_extension": ".py",
   "mimetype": "text/x-python",
   "name": "python",
   "nbconvert_exporter": "python",
   "pygments_lexer": "ipython3",
   "version": "3.9.12"
  }
 },
 "nbformat": 4,
 "nbformat_minor": 5
}
