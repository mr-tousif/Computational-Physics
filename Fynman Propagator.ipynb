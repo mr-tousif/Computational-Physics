{
 "cells": [
  {
   "cell_type": "markdown",
   "id": "02f1fbd2",
   "metadata": {},
   "source": [
    "# Coding\n",
    "- The Schrödinger equation $\\mathrm{i}\\dot{\\psi}(t) = H \\psi(t)$ with a constant Hamiltonian matrix $H$ has the solution $\\psi(t) = U(t) \\psi(0)$, where $U(t) = \\exp(-\\mathrm{i} H t)$ is called the propagator. Write a function that computes the propagator for any given Hamiltonian matrix. (Hint: What's the form of $U$ in the energy basis?)\n",
    "\n",
    "- Use `scipy.optimize.root()` to implement a function that computes the inverse of an arbitrary square matrix. (Hint: Solve $X$ from $A X = I$ for given matrix $A$.)"
   ]
  },
  {
   "cell_type": "markdown",
   "id": "dd1e1a13",
   "metadata": {},
   "source": [
    "$\\textbf{Theory:}$\n",
    "\n",
    "$  A|\\phi_{i} \\rangle=a_i|\\phi_i\\rangle $ and the eigenvectors of A form a complete orthonormal set —\n",
    "that is to say, $$\\sum_{i}|\\phi_i\\rangle \\langle\\phi_i|=I$$ then operator can be reconstructed in a useful diagonal form in terms of its eigenvalues and eigenvectors as $$\n",
    "A=\\sum_i{a_i |\\phi_i\\rangle \\langle \\phi_i|}\\tag{1}$$\n",
    "\n",
    "One can use the diagonal representation to define a function of an operator, $$f(A)=\\sum_i{f(a_i) |\\phi_i\\rangle \\langle \\phi_i|}\\tag{2}$$"
   ]
  },
  {
   "cell_type": "code",
   "execution_count": 199,
   "id": "b321bb1c",
   "metadata": {},
   "outputs": [],
   "source": [
    "import numpy as np\n",
    "import numpy.linalg as la"
   ]
  },
  {
   "cell_type": "code",
   "execution_count": 200,
   "id": "50299d69",
   "metadata": {},
   "outputs": [
    {
     "name": "stdout",
     "output_type": "stream",
     "text": [
      "Eigen values: [ 8.80916362  0.92620912 -0.73537273]\n",
      "Eigen vectors: [[-0.52799324 -0.77557092 -0.36272811]\n",
      " [-0.604391    0.62277013 -0.7103262 ]\n",
      " [-0.59660259 -0.10318482  0.60321224]]\n"
     ]
    }
   ],
   "source": [
    "H = np.array([[2, 2, 4], \n",
    "              [1, 3, 5],\n",
    "              [2, 3, 4]])\n",
    "#w,v=la.eig(H)\n",
    "print('Eigen values:', w)\n",
    "print('Eigen vectors:', v)"
   ]
  },
  {
   "cell_type": "code",
   "execution_count": 201,
   "id": "775c6451",
   "metadata": {},
   "outputs": [
    {
     "data": {
      "text/plain": [
       "array([ 8.80916362,  0.92620912, -0.73537273])"
      ]
     },
     "execution_count": 201,
     "metadata": {},
     "output_type": "execute_result"
    }
   ],
   "source": [
    "w  #eigenvalue"
   ]
  },
  {
   "cell_type": "code",
   "execution_count": 202,
   "id": "35e775ff",
   "metadata": {},
   "outputs": [
    {
     "data": {
      "text/plain": [
       "array([[-0.52799324, -0.77557092, -0.36272811],\n",
       "       [-0.604391  ,  0.62277013, -0.7103262 ],\n",
       "       [-0.59660259, -0.10318482,  0.60321224]])"
      ]
     },
     "execution_count": 202,
     "metadata": {},
     "output_type": "execute_result"
    }
   ],
   "source": [
    "v  #eigen vector"
   ]
  },
  {
   "cell_type": "code",
   "execution_count": 203,
   "id": "8c5de7e6",
   "metadata": {},
   "outputs": [
    {
     "data": {
      "text/plain": [
       "array([-0.52799324, -0.604391  , -0.59660259])"
      ]
     },
     "execution_count": 203,
     "metadata": {},
     "output_type": "execute_result"
    }
   ],
   "source": [
    "#extract ith column\n",
    "\n",
    "v[:,0] #1st column, first eigen vector"
   ]
  },
  {
   "cell_type": "code",
   "execution_count": 204,
   "id": "3ec4119e",
   "metadata": {},
   "outputs": [
    {
     "data": {
      "text/plain": [
       "array([-0.77557092,  0.62277013, -0.10318482])"
      ]
     },
     "execution_count": 204,
     "metadata": {},
     "output_type": "execute_result"
    }
   ],
   "source": [
    "v[:,1] #2nd column, second eigen vector"
   ]
  },
  {
   "cell_type": "code",
   "execution_count": 205,
   "id": "685d4338",
   "metadata": {},
   "outputs": [
    {
     "data": {
      "text/plain": [
       "array([-0.36272811, -0.7103262 ,  0.60321224])"
      ]
     },
     "execution_count": 205,
     "metadata": {},
     "output_type": "execute_result"
    }
   ],
   "source": [
    "v[:,2] #3rd column, third eigen vector"
   ]
  },
  {
   "cell_type": "code",
   "execution_count": 206,
   "id": "fe3dafc5",
   "metadata": {},
   "outputs": [
    {
     "data": {
      "text/plain": [
       "0.09465987213763337"
      ]
     },
     "execution_count": 206,
     "metadata": {},
     "output_type": "execute_result"
    }
   ],
   "source": [
    "#Checking orthonormalilty\n",
    "\n",
    "np.sum(v[:,0]*v[:,1]) #close to zero"
   ]
  },
  {
   "cell_type": "code",
   "execution_count": 207,
   "id": "658f8fa8",
   "metadata": {},
   "outputs": [
    {
     "data": {
      "text/plain": [
       "1.0000000000000002"
      ]
     },
     "execution_count": 207,
     "metadata": {},
     "output_type": "execute_result"
    }
   ],
   "source": [
    "np.sum(v[:,0]*v[:,0].T)  #so eigen vectors are orthogonal, form orthonormal basis"
   ]
  },
  {
   "cell_type": "code",
   "execution_count": 208,
   "id": "1dfc71c6",
   "metadata": {},
   "outputs": [],
   "source": [
    "#Def function for prpagtor U(t)=exp(-iHt):\n",
    "\n",
    "def U(H,t):\n",
    "    w,v=la.eig(H)\n",
    "    \n",
    "    #spectral decomposition of H\n",
    "    H_1=w[0]*np.sum(v[:,0]*v[:,0].T)+w[1]*np.sum(v[:,1]*v[:,1].T)+w[2]*np.sum(v[:,2]*v[:,2].T)\n",
    "    #operating exp function on eigen values of H \n",
    "    U=np.exp(1j*-w[0]*t)*np.sum(v[:,0]*v[:,0].T)+np.exp(1j*-w[1]*t)*np.sum(v[:,1]*v[:,1].T)+np.exp(-1j*w[2]*t)*np.sum(v[:,2]*v[:,2].T)\n",
    "    return U"
   ]
  },
  {
   "cell_type": "code",
   "execution_count": 209,
   "id": "d140c572",
   "metadata": {},
   "outputs": [],
   "source": [
    "H = np.array([[2, 2, 4], [1, 3, 5],[2, 3, 4]]) # any symmetric matrix\n",
    "\n",
    "t=1   #arbitrary time"
   ]
  },
  {
   "cell_type": "code",
   "execution_count": 210,
   "id": "a51f9cf4",
   "metadata": {},
   "outputs": [
    {
     "data": {
      "text/plain": [
       "(0.5260304374790282-0.7059444475348868j)"
      ]
     },
     "execution_count": 210,
     "metadata": {},
     "output_type": "execute_result"
    }
   ],
   "source": [
    "U(H,t)"
   ]
  },
  {
   "cell_type": "code",
   "execution_count": null,
   "id": "fc6adfdb",
   "metadata": {},
   "outputs": [],
   "source": []
  }
 ],
 "metadata": {
  "kernelspec": {
   "display_name": "Python 3 (ipykernel)",
   "language": "python",
   "name": "python3"
  },
  "language_info": {
   "codemirror_mode": {
    "name": "ipython",
    "version": 3
   },
   "file_extension": ".py",
   "mimetype": "text/x-python",
   "name": "python",
   "nbconvert_exporter": "python",
   "pygments_lexer": "ipython3",
   "version": "3.9.12"
  }
 },
 "nbformat": 4,
 "nbformat_minor": 5
}
