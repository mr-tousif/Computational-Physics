{
 "cells": [
  {
   "cell_type": "code",
   "execution_count": 1,
   "id": "65006178",
   "metadata": {},
   "outputs": [
    {
     "data": {
      "text/plain": [
       "' Pytho program for different series'"
      ]
     },
     "execution_count": 1,
     "metadata": {},
     "output_type": "execute_result"
    }
   ],
   "source": [
    "''' Pytho program for different series\n",
    "\n",
    "Template:\n",
    "\n",
    "sum=0\n",
    "\n",
    "n=no upto which we want to find the sum of the series or\n",
    "\n",
    "we can take input manually as: n=int(input(\"enter any number n: \",))\n",
    "\n",
    "\n",
    "for i in range(1,n+1):\n",
    "      sum=sum+term\n",
    "print(\"sum of the series:\", sum)\n",
    "\n",
    "\n",
    "'''"
   ]
  },
  {
   "cell_type": "code",
   "execution_count": 54,
   "id": "cb7c2fe7",
   "metadata": {},
   "outputs": [
    {
     "name": "stdout",
     "output_type": "stream",
     "text": [
      "[0 1 2 3 4]\n"
     ]
    }
   ],
   "source": [
    "import numpy as np\n",
    "\n",
    "n=5\n",
    "a=np.arange(n)  #it goes upto 4\n",
    "print(a)  \n",
    "\n"
   ]
  },
  {
   "cell_type": "code",
   "execution_count": 55,
   "id": "9a70c7c7",
   "metadata": {},
   "outputs": [
    {
     "name": "stdout",
     "output_type": "stream",
     "text": [
      "[0 1 2 3 4 5]\n"
     ]
    }
   ],
   "source": [
    "a=np.arange(n+1)\n",
    "print(a)"
   ]
  },
  {
   "cell_type": "code",
   "execution_count": null,
   "id": "76b0e3c1",
   "metadata": {},
   "outputs": [],
   "source": [
    "#Arithmetic series:"
   ]
  },
  {
   "cell_type": "code",
   "execution_count": 27,
   "id": "39ad4a36",
   "metadata": {},
   "outputs": [
    {
     "name": "stdout",
     "output_type": "stream",
     "text": [
      "sum of first 5 numbers is= 15\n"
     ]
    },
    {
     "data": {
      "text/plain": [
       "'a    sum\\n   1    0+1=1\\n   2   1+2=3\\n   3   3+3=6\\n   4   4+6=10\\n   5  5+10=15'"
      ]
     },
     "execution_count": 27,
     "metadata": {},
     "output_type": "execute_result"
    }
   ],
   "source": [
    "'''Arithmetic sum 1+2+.......n'''\n",
    "\n",
    "n=5  #upto 5\n",
    "sum=0\n",
    "a=1 #first no\n",
    "for i in range(1,n+1):\n",
    "    sum=sum+a\n",
    "    \n",
    "    a+=1 #increment by 1 as the series has +1 increment between two consequitive numbers\n",
    " \n",
    "print(\"sum of first 5 numbers is=\", sum)\n",
    "\n",
    "\n",
    "#How it works:\n",
    "    \n",
    "'''a    sum\n",
    "   1    0+1=1\n",
    "   2   1+2=3\n",
    "   3   3+3=6\n",
    "   4   4+6=10\n",
    "   5  5+10=15'''\n",
    "\n",
    "\n"
   ]
  },
  {
   "cell_type": "code",
   "execution_count": null,
   "id": "43ab9f7f",
   "metadata": {},
   "outputs": [],
   "source": [
    "'''Arithmetic sum 1+2+.......n'''\n",
    "\n",
    "n=5  #upto 5\n",
    "sum=0\n",
    "a=1 #first no\n",
    "for i in range():\n",
    "    sum=sum+a\n",
    "    \n",
    "    a+=1 #increment by 1 as the series has +1 increment between two consequitive numbers\n",
    " \n",
    "print(\"sum of first 5 numbers is=\", sum)\n"
   ]
  },
  {
   "cell_type": "code",
   "execution_count": 28,
   "id": "83f20526",
   "metadata": {},
   "outputs": [
    {
     "data": {
      "text/plain": [
       "'Let do sum the series 10+9+.....1 '"
      ]
     },
     "execution_count": 28,
     "metadata": {},
     "output_type": "execute_result"
    }
   ],
   "source": [
    "'''Let do sum the series 10+9+.....1 '''"
   ]
  },
  {
   "cell_type": "code",
   "execution_count": 25,
   "id": "bcad9029",
   "metadata": {},
   "outputs": [
    {
     "name": "stdout",
     "output_type": "stream",
     "text": [
      "sum of first 10 numbers is= 55\n"
     ]
    }
   ],
   "source": [
    "n=10\n",
    "sum=0\n",
    "a=10 # first no\n",
    "for i in range(1,n+1):\n",
    "    sum=sum+a\n",
    "    #a=a-1\n",
    "    a-=1\n",
    "print(\"sum of first 10 numbers is=\", sum)\n",
    "    "
   ]
  },
  {
   "cell_type": "code",
   "execution_count": 31,
   "id": "963f7dc6",
   "metadata": {},
   "outputs": [
    {
     "name": "stdout",
     "output_type": "stream",
     "text": [
      "sum of the series=  28\n"
     ]
    }
   ],
   "source": [
    "'''series 1+5+9+13'''\n",
    "\n",
    "n=4  #total no of terms in the series\n",
    "sum=0\n",
    "a=1 #first term in the series\n",
    "for i in range(1,n+1):\n",
    "    sum=sum+a\n",
    "    a+=4 #increment between two numbers in the series\n",
    "print(\"sum of the series= \", sum)"
   ]
  },
  {
   "cell_type": "code",
   "execution_count": 32,
   "id": "bf73eb20",
   "metadata": {},
   "outputs": [
    {
     "name": "stdout",
     "output_type": "stream",
     "text": [
      "sum of the series=  10100\n"
     ]
    }
   ],
   "source": [
    "'''series 2+4+6+8+10+....100'''\n",
    "\n",
    "\n",
    "n=100\n",
    "sum=0\n",
    "a=2 #first term in the series\n",
    "for i in range(1,n+1):\n",
    "    sum=sum+a\n",
    "    a+=2 #increment between two numbers in the series\n",
    "print(\"sum of the series= \", sum)"
   ]
  },
  {
   "cell_type": "code",
   "execution_count": 39,
   "id": "3cefe1bb",
   "metadata": {},
   "outputs": [
    {
     "name": "stdout",
     "output_type": "stream",
     "text": [
      "enter any number n: 5\n",
      "enter x: 5\n",
      "sum of the series is=  3905.0\n"
     ]
    }
   ],
   "source": [
    "'''series x^1 x^2 x^3 x^4 ......x^n'''\n",
    "\n",
    "#let's take the input for n and x from manually\n",
    "n=int(input(\"enter any number n: \",))\n",
    "x=int(input(\"enter x: \", ))\n",
    "\n",
    "sum=0\n",
    "a=1 #firt term in power\n",
    "for i in range(1,n+1):\n",
    "    #sum=sum+pow(x,a)\n",
    "    sum=sum+x**a\n",
    "    a=a+1.  # each power term increses by factor 1\n",
    "print(\"sum of the series is= \", sum)"
   ]
  },
  {
   "cell_type": "code",
   "execution_count": 45,
   "id": "b0459dd0",
   "metadata": {},
   "outputs": [
    {
     "name": "stdout",
     "output_type": "stream",
     "text": [
      "sum of factorial series is:  76.5\n"
     ]
    },
    {
     "name": "stderr",
     "output_type": "stream",
     "text": [
      "/var/folders/px/h6xhv_615bdcvbzrl_q0jfsr0000gn/T/ipykernel_19322/4111874355.py:13: DeprecationWarning: Using factorial() with floats is deprecated\n",
      "  sum=sum+(np.math.factorial(a)/x)\n"
     ]
    }
   ],
   "source": [
    "''' series (1!/x)+(2!/x)+(3!/x)+.....'''\n",
    "\n",
    "import numpy as np  # due to factorial function\n",
    "import math\n",
    "\n",
    "n=5\n",
    "x=2\n",
    "\n",
    "sum=0\n",
    "a=1. #first term of factorial\n",
    "\n",
    "for i in range(1,n+1):\n",
    "    sum=sum+(np.math.factorial(a)/x)\n",
    "    # sum=sum+(math.factorial(a)/x)\n",
    "    a=a+1 #each term in factorial increses by 1\n",
    "print(\"sum of factorial series is: \", sum)\n",
    "    \n",
    "\n",
    "\n",
    "\n"
   ]
  },
  {
   "cell_type": "code",
   "execution_count": 59,
   "id": "09891360",
   "metadata": {},
   "outputs": [
    {
     "name": "stdout",
     "output_type": "stream",
     "text": [
      "sum of factorial series is:  2.560647213674402e+19\n"
     ]
    }
   ],
   "source": [
    "''' series (3!/x)+(5!/x)+(7!/x)+.....'''\n",
    "\n",
    "import numpy as np  # due to factorial function\n",
    "import math\n",
    "\n",
    "n=10\n",
    "x=2\n",
    "\n",
    "sum=0\n",
    "a=3 #first term of factorial\n",
    "\n",
    "for i in range(1,n+1):\n",
    "    sum=sum+(math.factorial(a)/x)\n",
    "    # sum=sum+(math.factorial(a)/x)\n",
    "    a=a+2 #each term in factorial increses by 2\n",
    "print(\"sum of factorial series is: \", sum)\n",
    "    \n",
    "\n"
   ]
  },
  {
   "cell_type": "code",
   "execution_count": 63,
   "id": "4babf89a",
   "metadata": {},
   "outputs": [
    {
     "name": "stdout",
     "output_type": "stream",
     "text": [
      "sum of factorials upto 10 is:   4037913\n"
     ]
    }
   ],
   "source": [
    "'''series 1!+2!+3!+...10!'''\n",
    "import math\n",
    "n=10\n",
    "sum=0\n",
    "a=1\n",
    "for i in range(1,n+1):\n",
    "    sum=sum+math.factorial(a)\n",
    "    a+=1\n",
    "print(\"sum of factorials upto 10 is:  \", sum)"
   ]
  },
  {
   "cell_type": "code",
   "execution_count": 65,
   "id": "5c4ebbda",
   "metadata": {},
   "outputs": [
    {
     "name": "stdout",
     "output_type": "stream",
     "text": [
      "sum of the series is :  1140\n"
     ]
    }
   ],
   "source": [
    "'''series (2^x)+(4^x)+(6^x)+.....(10^x)'''\n",
    "\n",
    "n=10\n",
    "x=2\n",
    "sum=0\n",
    "a=2  #initial term\n",
    "for i in range(1,10):\n",
    "    sum=sum+a**x\n",
    "    a+=2 #each consequitive term increses by 2\n",
    "print(\"sum of the series is : \",sum)"
   ]
  },
  {
   "cell_type": "code",
   "execution_count": 66,
   "id": "4e4e143b",
   "metadata": {},
   "outputs": [
    {
     "name": "stdout",
     "output_type": "stream",
     "text": [
      "sum of the series is :  8100.0\n"
     ]
    }
   ],
   "source": [
    "'''series (2^3/x)+(4^3/x)+(6^3/x)+.....(10^3/x)'''\n",
    "\n",
    "\n",
    "n=10\n",
    "x=2\n",
    "sum=0\n",
    "a=2  #initial term\n",
    "for i in range(1,10):\n",
    "    sum=sum+(a**3/x)\n",
    "    a+=2 #each consequitive term increses by 2\n",
    "print(\"sum of the series is : \",sum)"
   ]
  },
  {
   "cell_type": "code",
   "execution_count": 67,
   "id": "5aa57c17",
   "metadata": {},
   "outputs": [
    {
     "name": "stdout",
     "output_type": "stream",
     "text": [
      "sum od the series is:  5.0\n"
     ]
    }
   ],
   "source": [
    "'''series (1/2)+(2/4)+(3/6)+   10/20'''\n",
    "\n",
    "n=10\n",
    "a=1 #numerator initial value\n",
    "d=2 #denominator initial value\n",
    "sum=0\n",
    "for i in range(1,n+1):\n",
    "    sum=sum+(a/d)\n",
    "    a+=1 #each term in numerator increses by 1\n",
    "    d+=2 #each term in denominator increses by 2\n",
    "print(\"sum od the series is: \", sum)"
   ]
  },
  {
   "cell_type": "code",
   "execution_count": 70,
   "id": "3934c53b",
   "metadata": {},
   "outputs": [
    {
     "name": "stdout",
     "output_type": "stream",
     "text": [
      "sum is:  1.9583333333333333\n"
     ]
    }
   ],
   "source": [
    "'''series (3/9)+(5/8)+(7/7)+...'''\n",
    "\n",
    "n=3 # first three terms\n",
    "sum=0\n",
    "a=3  #inital value in numerator\n",
    "d=9  #initial  value in denominator\n",
    "\n",
    "for i in range(1,n+1):\n",
    "    sum=sum+a/d\n",
    "    a+=2  #each term in numerator increses by 2\n",
    "    d-=1 #each term in denominator decreases by 1\n",
    "print('sum is: ',sum)\n"
   ]
  },
  {
   "cell_type": "code",
   "execution_count": 71,
   "id": "dd8981bf",
   "metadata": {},
   "outputs": [],
   "source": [
    "#Geometric series"
   ]
  },
  {
   "cell_type": "code",
   "execution_count": 77,
   "id": "96d0c97b",
   "metadata": {},
   "outputs": [
    {
     "name": "stdout",
     "output_type": "stream",
     "text": [
      "sum is: 338350\n"
     ]
    }
   ],
   "source": [
    "'''sum (1^2)+(2^2)+(3^2)+(4^2)+.....(n^2)=1+4+9+16+25+......100'''\n",
    "\n",
    "n=100\n",
    "sum=0\n",
    "a=1\n",
    "for i in range(1,n+1):\n",
    "    sum=sum+a**2\n",
    "    a+=1\n",
    "print(\"sum is:\",sum)"
   ]
  },
  {
   "cell_type": "code",
   "execution_count": 78,
   "id": "8ca2c8f9",
   "metadata": {},
   "outputs": [
    {
     "name": "stdout",
     "output_type": "stream",
     "text": [
      "sum is: 62\n"
     ]
    }
   ],
   "source": [
    "'''sum 2+4+8+16+ ..... '''\n",
    "\n",
    "n=5\n",
    "sum=0\n",
    "a=2\n",
    "for i in range(1,n+1):\n",
    "    sum=sum+a\n",
    "    a*=2  #each term we get multiply by 2\n",
    "print(\"sum is:\",sum)"
   ]
  },
  {
   "cell_type": "code",
   "execution_count": 79,
   "id": "b64b8ae6",
   "metadata": {},
   "outputs": [
    {
     "name": "stdout",
     "output_type": "stream",
     "text": [
      "sum is: 242\n"
     ]
    }
   ],
   "source": [
    "'''sum 2+6+18+54+ ..... '''\n",
    "\n",
    "n=5\n",
    "sum=0\n",
    "a=2\n",
    "for i in range(1,n+1):\n",
    "    sum=sum+a\n",
    "    a*=3  #each term we get multiply by 3\n",
    "print(\"sum is:\",sum)"
   ]
  },
  {
   "cell_type": "code",
   "execution_count": 80,
   "id": "7225ac3c",
   "metadata": {},
   "outputs": [
    {
     "name": "stdout",
     "output_type": "stream",
     "text": [
      "sum is: 1.9375\n"
     ]
    }
   ],
   "source": [
    "'''sum (x/2)+(x/4)+(x/8)+(x/16)+ ..... '''\n",
    "\n",
    "n=5\n",
    "sum=0\n",
    "a=2  #initial value in dinominator\n",
    "for i in range(1,n+1):\n",
    "    sum=sum+x/a\n",
    "    a*=2  #each term in dinominator we get multiply by 2\n",
    "print(\"sum is:\",sum)"
   ]
  },
  {
   "cell_type": "code",
   "execution_count": null,
   "id": "e836ce9c",
   "metadata": {},
   "outputs": [],
   "source": [
    "#Arithmetic series of alternative sign"
   ]
  },
  {
   "cell_type": "code",
   "execution_count": 81,
   "id": "0fd333e4",
   "metadata": {},
   "outputs": [
    {
     "name": "stdout",
     "output_type": "stream",
     "text": [
      "sum is: 122\n"
     ]
    }
   ],
   "source": [
    "'''sum 2-6+18-54+ ..... '''\n",
    "#position of term is 1 2 3 4 \n",
    "#even position term is negative\n",
    "#odd position term is positive\n",
    "\n",
    "n=5\n",
    "sum=0\n",
    "a=2\n",
    "for i in range(1,n+1):\n",
    "    if i%2==0:  #even position term\n",
    "        sum=sum-a\n",
    "    else:   #odd position term\n",
    "        sum=sum+a\n",
    "    a*=3  #each term we get multiply by 3\n",
    "print(\"sum is:\",sum)"
   ]
  },
  {
   "cell_type": "code",
   "execution_count": null,
   "id": "a93e3d87",
   "metadata": {},
   "outputs": [],
   "source": [
    "#Arithmetic and Geometric series "
   ]
  },
  {
   "cell_type": "code",
   "execution_count": 82,
   "id": "a0090ee4",
   "metadata": {},
   "outputs": [
    {
     "name": "stdout",
     "output_type": "stream",
     "text": [
      "sum is: 5.5\n"
     ]
    }
   ],
   "source": [
    "'''sum (x+2/2)+(x+4/4)+(x+6/8)+(x+8/16)+ ..... '''\n",
    "\n",
    "\n",
    "n=5\n",
    "sum=0\n",
    "a=2  #initial value in numerator\n",
    "d=2   #initial value in dinominator\n",
    "\n",
    "for i in range(1,n+1):\n",
    "    sum=sum+(x+a)/d\n",
    "    a+=2   #each no in numerator we get by adding 2 : Arithmetic series\n",
    "    d*=2  #each term in dinominator we get multiply by 2 : Geometric series\n",
    "print(\"sum is:\",sum)\n"
   ]
  },
  {
   "cell_type": "code",
   "execution_count": 83,
   "id": "aba1b55d",
   "metadata": {},
   "outputs": [
    {
     "name": "stdout",
     "output_type": "stream",
     "text": [
      "sum is:  2.144943951333076\n"
     ]
    }
   ],
   "source": [
    "''' sum (x+2^2/1+1!)+(x+4^2/2+4!)+(x+6^2/7!)+(x+8/3+25!)+ ..... '''\n",
    "import math\n",
    "n=5\n",
    "x=2\n",
    "sum=0\n",
    "a1=2;a2=1;a3=2\n",
    "for i in range(1,n+1):\n",
    "    sum=sum+(x+a1**2)/(a2+math.factorial(a3))\n",
    "    a1=a1+2\n",
    "    a2=a1+1\n",
    "    a3=a3+3\n",
    "    \n",
    "print(\"sum is: \", sum)\n",
    "    \n",
    "\n",
    "\n"
   ]
  },
  {
   "cell_type": "code",
   "execution_count": null,
   "id": "086b4d2e",
   "metadata": {},
   "outputs": [],
   "source": []
  }
 ],
 "metadata": {
  "kernelspec": {
   "display_name": "Python 3 (ipykernel)",
   "language": "python",
   "name": "python3"
  },
  "language_info": {
   "codemirror_mode": {
    "name": "ipython",
    "version": 3
   },
   "file_extension": ".py",
   "mimetype": "text/x-python",
   "name": "python",
   "nbconvert_exporter": "python",
   "pygments_lexer": "ipython3",
   "version": "3.9.12"
  }
 },
 "nbformat": 4,
 "nbformat_minor": 5
}
