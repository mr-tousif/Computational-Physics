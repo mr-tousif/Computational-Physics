{
 "cells": [
  {
   "cell_type": "code",
   "execution_count": 90,
   "id": "948ce66a",
   "metadata": {},
   "outputs": [],
   "source": [
    "import numpy as np\n",
    "import matplotlib.pyplot as plt"
   ]
  },
  {
   "cell_type": "code",
   "execution_count": 91,
   "id": "7959fdf3",
   "metadata": {},
   "outputs": [],
   "source": [
    "#Generating dataset \n",
    "\n",
    "data_1=np.random.random(50)\n",
    "\n",
    "#data_2=np.random.normal(1,10,100)\n",
    "#data_3=np.random.randn(100)"
   ]
  },
  {
   "cell_type": "code",
   "execution_count": 92,
   "id": "0fcad9c6",
   "metadata": {},
   "outputs": [
    {
     "data": {
      "text/plain": [
       "array([0.89340971, 0.57348642, 0.36436981, 0.72072258, 0.95224296,\n",
       "       0.67275883, 0.80228377, 0.43274031, 0.09682151, 0.43656425,\n",
       "       0.46595836, 0.1906873 , 0.19051996, 0.14683718, 0.13837479,\n",
       "       0.162747  , 0.09140976, 0.2071074 , 0.58407294, 0.71750262,\n",
       "       0.22515402, 0.27665027, 0.78442415, 0.25699709, 0.72242193,\n",
       "       0.50921094, 0.05323291, 0.88904618, 0.04327975, 0.28739034,\n",
       "       0.70057652, 0.70494879, 0.22634288, 0.55084594, 0.31080795,\n",
       "       0.53763416, 0.91033788, 0.55892516, 0.09995557, 0.97452024,\n",
       "       0.74665977, 0.17821801, 0.32990246, 0.31724622, 0.59821051,\n",
       "       0.18748526, 0.03528522, 0.06198642, 0.32338479, 0.64343835])"
      ]
     },
     "execution_count": 92,
     "metadata": {},
     "output_type": "execute_result"
    }
   ],
   "source": [
    "data_1"
   ]
  },
  {
   "cell_type": "code",
   "execution_count": 93,
   "id": "0102ebc3",
   "metadata": {},
   "outputs": [],
   "source": [
    "#Mean and Standard Deviation using python in built library\n",
    "\n",
    "mean=data_1.mean()  #Mean or Average of the data\n",
    "sigma=data_1.std()  #standard deviation of the data"
   ]
  },
  {
   "cell_type": "code",
   "execution_count": 94,
   "id": "3f8e0594",
   "metadata": {},
   "outputs": [
    {
     "data": {
      "text/plain": [
       "0.4377027424026633"
      ]
     },
     "execution_count": 94,
     "metadata": {},
     "output_type": "execute_result"
    }
   ],
   "source": [
    "mean"
   ]
  },
  {
   "cell_type": "code",
   "execution_count": 95,
   "id": "108a0105",
   "metadata": {},
   "outputs": [
    {
     "data": {
      "text/plain": [
       "0.2780757349038322"
      ]
     },
     "execution_count": 95,
     "metadata": {},
     "output_type": "execute_result"
    }
   ],
   "source": [
    "sigma #standard deviation"
   ]
  },
  {
   "cell_type": "code",
   "execution_count": 96,
   "id": "db6bd39d",
   "metadata": {},
   "outputs": [],
   "source": [
    "#Let's cross check the result using definition of mean and standard deviation that we know from statistics"
   ]
  },
  {
   "cell_type": "markdown",
   "id": "83629b22",
   "metadata": {},
   "source": [
    "When data is collected from every member of the population that we’re interested in, we can get an exact value for population standard deviation.\n",
    "\n",
    "\n",
    "\n",
    "The population standard deviation of a dataset $\\{x_1, x_2, \\cdots, x_n\\}$ is defined as\n",
    "\n",
    "$$\\sigma = \\sqrt{\\frac{1}{n}\\sum_{i=1}^n (x_i - \\bar{x})^2}=\\sigma_1,$$\n",
    "\n",
    "where $\\bar{x}$ is the population average of $x_i$ and n is the no of values in the population.\n",
    "\n",
    "\n",
    "It is straightforward to show that an equivalent definition of the standard deviation is\n",
    "$$\\sigma = \\sqrt{\\left(\\frac{1}{n}\\sum_{i=1}^n x_i^2\\right)- \\bar{x}^2}=\\sigma_2.$$\n",
    "\n",
    "\n",
    "Question is which of the two algorithms is potentially faster to compute, and which is more accurate?\n"
   ]
  },
  {
   "cell_type": "code",
   "execution_count": 97,
   "id": "f3766288",
   "metadata": {},
   "outputs": [],
   "source": [
    "x=data_1"
   ]
  },
  {
   "cell_type": "code",
   "execution_count": 98,
   "id": "39ee1c23",
   "metadata": {},
   "outputs": [
    {
     "data": {
      "text/plain": [
       "array([0.89340971, 0.57348642, 0.36436981, 0.72072258, 0.95224296,\n",
       "       0.67275883, 0.80228377, 0.43274031, 0.09682151, 0.43656425,\n",
       "       0.46595836, 0.1906873 , 0.19051996, 0.14683718, 0.13837479,\n",
       "       0.162747  , 0.09140976, 0.2071074 , 0.58407294, 0.71750262,\n",
       "       0.22515402, 0.27665027, 0.78442415, 0.25699709, 0.72242193,\n",
       "       0.50921094, 0.05323291, 0.88904618, 0.04327975, 0.28739034,\n",
       "       0.70057652, 0.70494879, 0.22634288, 0.55084594, 0.31080795,\n",
       "       0.53763416, 0.91033788, 0.55892516, 0.09995557, 0.97452024,\n",
       "       0.74665977, 0.17821801, 0.32990246, 0.31724622, 0.59821051,\n",
       "       0.18748526, 0.03528522, 0.06198642, 0.32338479, 0.64343835])"
      ]
     },
     "execution_count": 98,
     "metadata": {},
     "output_type": "execute_result"
    }
   ],
   "source": [
    "x"
   ]
  },
  {
   "cell_type": "code",
   "execution_count": 99,
   "id": "6d23c893",
   "metadata": {},
   "outputs": [
    {
     "name": "stdout",
     "output_type": "stream",
     "text": [
      "1\n",
      "23\n",
      "44\n",
      "55\n"
     ]
    }
   ],
   "source": [
    "#Concept of range function \n",
    "\n",
    "y_1=[1,23,44,55]  #example of list\n",
    "for i in range(0,4):\n",
    "    print(y_1[i])\n",
    "    \n",
    "#reads whole list"
   ]
  },
  {
   "cell_type": "code",
   "execution_count": 100,
   "id": "ce555096",
   "metadata": {},
   "outputs": [
    {
     "name": "stdout",
     "output_type": "stream",
     "text": [
      "23\n",
      "44\n",
      "55\n"
     ]
    }
   ],
   "source": [
    "for i in range(1,4):\n",
    "    print(y_1[i])  #first elements missing , reads from 1-3"
   ]
  },
  {
   "cell_type": "code",
   "execution_count": 101,
   "id": "28ddce74",
   "metadata": {},
   "outputs": [
    {
     "name": "stdout",
     "output_type": "stream",
     "text": [
      "1\n",
      "23\n",
      "44\n",
      "55\n"
     ]
    }
   ],
   "source": [
    "for i in range(1,5):\n",
    "    print(y_1[i-1])   #reads all the entries in the list"
   ]
  },
  {
   "cell_type": "code",
   "execution_count": 102,
   "id": "70271adc",
   "metadata": {},
   "outputs": [],
   "source": [
    "n=50 #no of values in the population\n",
    "\n",
    "x_ave=x.sum()/50  #Average of the data"
   ]
  },
  {
   "cell_type": "code",
   "execution_count": 103,
   "id": "776731b2",
   "metadata": {},
   "outputs": [
    {
     "data": {
      "text/plain": [
       "0.4377027424026633"
      ]
     },
     "execution_count": 103,
     "metadata": {},
     "output_type": "execute_result"
    }
   ],
   "source": [
    "x_ave"
   ]
  },
  {
   "cell_type": "code",
   "execution_count": 104,
   "id": "73224db3",
   "metadata": {},
   "outputs": [],
   "source": [
    "def sigma_1(x_ave,n):\n",
    "    res_1=[]\n",
    "    for i in range(1,51):\n",
    "        res_1.append((x[i-1]-x_ave)**2)   # above mentioned concept is used to read all the entries in the dataset\n",
    "    Sum_1=np.array(res_1).sum() #res is a list first making it an array and taking the sum \n",
    "    return np.sqrt(Sum_1/n)  # standard deviation\n",
    "\n",
    "\n",
    "def sigma_2(x_ave,n):\n",
    "    res_2=[]\n",
    "    for i in range(1,51):\n",
    "        res_2.append((x[i-1])**2)   # above mentioned concept is used to read all the entries in the dataset\n",
    "    Sum_2=np.array(res_2).sum() #res is a list first making it an array and taking the sum \n",
    "    return np.sqrt((Sum_2/n)-(x_ave**2)) # standard deviation"
   ]
  },
  {
   "cell_type": "code",
   "execution_count": 105,
   "id": "9ba438dd",
   "metadata": {},
   "outputs": [
    {
     "data": {
      "text/plain": [
       "0.2780757349038322"
      ]
     },
     "execution_count": 105,
     "metadata": {},
     "output_type": "execute_result"
    }
   ],
   "source": [
    "sigma_1(x_ave,n)"
   ]
  },
  {
   "cell_type": "code",
   "execution_count": 106,
   "id": "29c12096",
   "metadata": {},
   "outputs": [
    {
     "data": {
      "text/plain": [
       "0.2780757349038323"
      ]
     },
     "execution_count": 106,
     "metadata": {},
     "output_type": "execute_result"
    }
   ],
   "source": [
    "sigma_2(x_ave,n)"
   ]
  },
  {
   "cell_type": "code",
   "execution_count": 107,
   "id": "afea943b",
   "metadata": {},
   "outputs": [
    {
     "name": "stdout",
     "output_type": "stream",
     "text": [
      "CPU times: user 317 µs, sys: 1e+03 ns, total: 318 µs\n",
      "Wall time: 329 µs\n"
     ]
    },
    {
     "data": {
      "text/plain": [
       "0.2780757349038322"
      ]
     },
     "execution_count": 107,
     "metadata": {},
     "output_type": "execute_result"
    }
   ],
   "source": [
    "# %time to see the allocation time needed for the execution of the function\n",
    "\n",
    "%time sigma_1(x_ave,n) "
   ]
  },
  {
   "cell_type": "code",
   "execution_count": 108,
   "id": "7ae81282",
   "metadata": {},
   "outputs": [
    {
     "name": "stdout",
     "output_type": "stream",
     "text": [
      "CPU times: user 185 µs, sys: 0 ns, total: 185 µs\n",
      "Wall time: 190 µs\n"
     ]
    },
    {
     "data": {
      "text/plain": [
       "0.2780757349038323"
      ]
     },
     "execution_count": 108,
     "metadata": {},
     "output_type": "execute_result"
    }
   ],
   "source": [
    "%time sigma_2(x_ave,n)"
   ]
  },
  {
   "cell_type": "code",
   "execution_count": 109,
   "id": "6415d48d",
   "metadata": {},
   "outputs": [
    {
     "name": "stdout",
     "output_type": "stream",
     "text": [
      "21.058715709000012\n",
      "17.909089667000103\n"
     ]
    }
   ],
   "source": [
    "if __name__ == '__main__':\n",
    "    import timeit\n",
    "    print(timeit.timeit(\"sigma_1(0.25175825263610824,50)\", setup=\"from __main__ import sigma_1\"))\n",
    "    print(timeit.timeit(\"sigma_2(0.25175825263610824,50)\", setup=\"from __main__ import sigma_2\"))\n",
    "    "
   ]
  },
  {
   "cell_type": "code",
   "execution_count": null,
   "id": "9f9e03c5",
   "metadata": {},
   "outputs": [],
   "source": []
  }
 ],
 "metadata": {
  "kernelspec": {
   "display_name": "Python 3 (ipykernel)",
   "language": "python",
   "name": "python3"
  },
  "language_info": {
   "codemirror_mode": {
    "name": "ipython",
    "version": 3
   },
   "file_extension": ".py",
   "mimetype": "text/x-python",
   "name": "python",
   "nbconvert_exporter": "python",
   "pygments_lexer": "ipython3",
   "version": "3.9.12"
  }
 },
 "nbformat": 4,
 "nbformat_minor": 5
}
