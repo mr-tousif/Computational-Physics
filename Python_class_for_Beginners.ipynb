{
 "cells": [
  {
   "cell_type": "code",
   "execution_count": 148,
   "id": "280f5287",
   "metadata": {},
   "outputs": [],
   "source": [
    "class grad:\n",
    "    courses=\"Cosmology\"   #attributes"
   ]
  },
  {
   "cell_type": "code",
   "execution_count": 149,
   "id": "11e77666",
   "metadata": {},
   "outputs": [
    {
     "data": {
      "text/plain": [
       "'Cosmology'"
      ]
     },
     "execution_count": 149,
     "metadata": {},
     "output_type": "execute_result"
    }
   ],
   "source": [
    "grad.courses"
   ]
  },
  {
   "cell_type": "code",
   "execution_count": 150,
   "id": "4f1ae723",
   "metadata": {},
   "outputs": [],
   "source": [
    "class fruit:\n",
    "    def __init__(self):\n",
    "        self.name=\"Apple\"\n",
    "        self.colour=\"Red\""
   ]
  },
  {
   "cell_type": "code",
   "execution_count": 151,
   "id": "7554a0ab",
   "metadata": {},
   "outputs": [
    {
     "data": {
      "text/plain": [
       "'Apple'"
      ]
     },
     "execution_count": 151,
     "metadata": {},
     "output_type": "execute_result"
    }
   ],
   "source": [
    "fruit().name"
   ]
  },
  {
   "cell_type": "code",
   "execution_count": 152,
   "id": "8dc62534",
   "metadata": {},
   "outputs": [
    {
     "data": {
      "text/plain": [
       "'Apple'"
      ]
     },
     "execution_count": 152,
     "metadata": {},
     "output_type": "execute_result"
    }
   ],
   "source": [
    "my_fruit=fruit()\n",
    "my_fruit.name"
   ]
  },
  {
   "cell_type": "code",
   "execution_count": 153,
   "id": "3adc24e7",
   "metadata": {},
   "outputs": [
    {
     "name": "stdout",
     "output_type": "stream",
     "text": [
      "Apple\n",
      "Red\n"
     ]
    }
   ],
   "source": [
    "print(my_fruit.name)\n",
    "print(my_fruit.colour)"
   ]
  },
  {
   "cell_type": "code",
   "execution_count": 154,
   "id": "c0e1bfbc",
   "metadata": {},
   "outputs": [
    {
     "name": "stdout",
     "output_type": "stream",
     "text": [
      "I love Apple\n"
     ]
    }
   ],
   "source": [
    "print(\"I love\"+\" \" +my_fruit.name)"
   ]
  },
  {
   "cell_type": "code",
   "execution_count": 155,
   "id": "e4c6df01",
   "metadata": {},
   "outputs": [],
   "source": [
    "my_fruit.name=\"Banana\"  #change attributes in the class"
   ]
  },
  {
   "cell_type": "code",
   "execution_count": 156,
   "id": "163008be",
   "metadata": {},
   "outputs": [
    {
     "name": "stdout",
     "output_type": "stream",
     "text": [
      "Banana\n"
     ]
    }
   ],
   "source": [
    "print(my_fruit.name)"
   ]
  },
  {
   "cell_type": "code",
   "execution_count": 157,
   "id": "6c7d65b9",
   "metadata": {},
   "outputs": [],
   "source": [
    "class Simple:\n",
    "    '''this is a simple class'''\n",
    "    x=2\n",
    "    y=3\n",
    "    z=x+y"
   ]
  },
  {
   "cell_type": "code",
   "execution_count": 158,
   "id": "88c6462c",
   "metadata": {},
   "outputs": [],
   "source": [
    "myclass=Simple()"
   ]
  },
  {
   "cell_type": "code",
   "execution_count": 159,
   "id": "17888914",
   "metadata": {},
   "outputs": [
    {
     "data": {
      "text/plain": [
       "'this is a simple class'"
      ]
     },
     "execution_count": 159,
     "metadata": {},
     "output_type": "execute_result"
    }
   ],
   "source": [
    "myclass.__doc__"
   ]
  },
  {
   "cell_type": "code",
   "execution_count": 160,
   "id": "b7bca88e",
   "metadata": {},
   "outputs": [
    {
     "data": {
      "text/plain": [
       "2"
      ]
     },
     "execution_count": 160,
     "metadata": {},
     "output_type": "execute_result"
    }
   ],
   "source": [
    "myclass.x"
   ]
  },
  {
   "cell_type": "code",
   "execution_count": 161,
   "id": "c4650ad6",
   "metadata": {},
   "outputs": [
    {
     "data": {
      "text/plain": [
       "3"
      ]
     },
     "execution_count": 161,
     "metadata": {},
     "output_type": "execute_result"
    }
   ],
   "source": [
    "myclass.y"
   ]
  },
  {
   "cell_type": "code",
   "execution_count": 162,
   "id": "410c619e",
   "metadata": {},
   "outputs": [
    {
     "data": {
      "text/plain": [
       "5"
      ]
     },
     "execution_count": 162,
     "metadata": {},
     "output_type": "execute_result"
    }
   ],
   "source": [
    "myclass.z"
   ]
  },
  {
   "cell_type": "code",
   "execution_count": 163,
   "id": "1293e174",
   "metadata": {},
   "outputs": [],
   "source": [
    "#class with initialization\n",
    "\n",
    "class Three:\n",
    "    x=10  #x is global variable\n",
    "    \n",
    "    def __init__(self,y): #y is arguments\n",
    "        self.y=y          #y is local variable"
   ]
  },
  {
   "cell_type": "code",
   "execution_count": 164,
   "id": "69a6ba22",
   "metadata": {},
   "outputs": [],
   "source": [
    "#object P1 is created\n",
    "\n",
    "p1=Three(20)  #y =20"
   ]
  },
  {
   "cell_type": "code",
   "execution_count": 165,
   "id": "291da8f7",
   "metadata": {},
   "outputs": [
    {
     "data": {
      "text/plain": [
       "10"
      ]
     },
     "execution_count": 165,
     "metadata": {},
     "output_type": "execute_result"
    }
   ],
   "source": [
    "p1.x"
   ]
  },
  {
   "cell_type": "code",
   "execution_count": 166,
   "id": "5d3a5f4f",
   "metadata": {},
   "outputs": [
    {
     "data": {
      "text/plain": [
       "20"
      ]
     },
     "execution_count": 166,
     "metadata": {},
     "output_type": "execute_result"
    }
   ],
   "source": [
    "p1.y"
   ]
  },
  {
   "cell_type": "code",
   "execution_count": 167,
   "id": "6bcd3a3e",
   "metadata": {},
   "outputs": [],
   "source": [
    "#class with function definition added\n",
    "\n",
    "class four:\n",
    "    ''' this example of better class'''\n",
    "    def __init__(self,x,y):\n",
    "        self.x=x\n",
    "        self.y=y\n",
    "    def add(self):\n",
    "        \"\"\"this is for addition\"\"\"\n",
    "        z=self.x+self.y\n",
    "        return z"
   ]
  },
  {
   "cell_type": "code",
   "execution_count": 168,
   "id": "1da9f508",
   "metadata": {},
   "outputs": [],
   "source": [
    "p=four(5,10)"
   ]
  },
  {
   "cell_type": "code",
   "execution_count": 169,
   "id": "3da86aa9",
   "metadata": {},
   "outputs": [
    {
     "data": {
      "text/plain": [
       "15"
      ]
     },
     "execution_count": 169,
     "metadata": {},
     "output_type": "execute_result"
    }
   ],
   "source": [
    "p.add()"
   ]
  },
  {
   "cell_type": "code",
   "execution_count": 170,
   "id": "6bb764b6",
   "metadata": {},
   "outputs": [
    {
     "data": {
      "text/plain": [
       "' this example of better class'"
      ]
     },
     "execution_count": 170,
     "metadata": {},
     "output_type": "execute_result"
    }
   ],
   "source": [
    "p.__doc__"
   ]
  },
  {
   "cell_type": "code",
   "execution_count": 171,
   "id": "4481772a",
   "metadata": {},
   "outputs": [
    {
     "data": {
      "text/plain": [
       "' this example of better class'"
      ]
     },
     "execution_count": 171,
     "metadata": {},
     "output_type": "execute_result"
    }
   ],
   "source": [
    "four.__doc__"
   ]
  },
  {
   "cell_type": "code",
   "execution_count": 172,
   "id": "59ef7458",
   "metadata": {},
   "outputs": [
    {
     "data": {
      "text/plain": [
       "'this is for addition'"
      ]
     },
     "execution_count": 172,
     "metadata": {},
     "output_type": "execute_result"
    }
   ],
   "source": [
    "four.add.__doc__"
   ]
  },
  {
   "cell_type": "code",
   "execution_count": 173,
   "id": "8ca123f7",
   "metadata": {},
   "outputs": [
    {
     "data": {
      "text/plain": [
       "'this is for addition'"
      ]
     },
     "execution_count": 173,
     "metadata": {},
     "output_type": "execute_result"
    }
   ],
   "source": [
    "p.add.__doc__"
   ]
  },
  {
   "cell_type": "code",
   "execution_count": 174,
   "id": "bf36c4be",
   "metadata": {},
   "outputs": [],
   "source": [
    "#class with one more function added\n",
    "\n",
    "class five:\n",
    "    '''this is even better class'''\n",
    "    \n",
    "    def __init__(self,x,y):\n",
    "        self.x=x\n",
    "        self.y=y\n",
    "    def add(self):\n",
    "        '''addition'''\n",
    "        z=self.x+self.y\n",
    "        return z\n",
    "    def rms(self):\n",
    "        '''square root of x and y'''\n",
    "        import math\n",
    "        d=math.sqrt(self.x**2+self.y**2)\n",
    "        return d"
   ]
  },
  {
   "cell_type": "code",
   "execution_count": 175,
   "id": "a605d4eb",
   "metadata": {},
   "outputs": [
    {
     "data": {
      "text/plain": [
       "'this is even better class'"
      ]
     },
     "execution_count": 175,
     "metadata": {},
     "output_type": "execute_result"
    }
   ],
   "source": [
    "five.__doc__"
   ]
  },
  {
   "cell_type": "code",
   "execution_count": 176,
   "id": "a1ecf8c7",
   "metadata": {},
   "outputs": [],
   "source": [
    "f=five(2,3)"
   ]
  },
  {
   "cell_type": "code",
   "execution_count": 177,
   "id": "fecd4927",
   "metadata": {},
   "outputs": [
    {
     "data": {
      "text/plain": [
       "'this is even better class'"
      ]
     },
     "execution_count": 177,
     "metadata": {},
     "output_type": "execute_result"
    }
   ],
   "source": [
    "f.__doc__"
   ]
  },
  {
   "cell_type": "code",
   "execution_count": 178,
   "id": "010b7fbb",
   "metadata": {},
   "outputs": [
    {
     "data": {
      "text/plain": [
       "'addition'"
      ]
     },
     "execution_count": 178,
     "metadata": {},
     "output_type": "execute_result"
    }
   ],
   "source": [
    "f.add.__doc__"
   ]
  },
  {
   "cell_type": "code",
   "execution_count": 179,
   "id": "f1dcf9f4",
   "metadata": {},
   "outputs": [
    {
     "data": {
      "text/plain": [
       "'this is for addition'"
      ]
     },
     "execution_count": 179,
     "metadata": {},
     "output_type": "execute_result"
    }
   ],
   "source": [
    "four.add.__doc__"
   ]
  },
  {
   "cell_type": "code",
   "execution_count": 180,
   "id": "472ea7e3",
   "metadata": {},
   "outputs": [
    {
     "data": {
      "text/plain": [
       "5"
      ]
     },
     "execution_count": 180,
     "metadata": {},
     "output_type": "execute_result"
    }
   ],
   "source": [
    "f.add()"
   ]
  },
  {
   "cell_type": "code",
   "execution_count": 181,
   "id": "a565b6fc",
   "metadata": {},
   "outputs": [
    {
     "data": {
      "text/plain": [
       "3.605551275463989"
      ]
     },
     "execution_count": 181,
     "metadata": {},
     "output_type": "execute_result"
    }
   ],
   "source": [
    "f.rms()"
   ]
  },
  {
   "cell_type": "code",
   "execution_count": 182,
   "id": "442a8c95",
   "metadata": {},
   "outputs": [],
   "source": [
    "#the first argument in any method can be anything in place of self. we may use self is a dummy variable\n",
    "\n",
    "class five:\n",
    "    '''this is even better class'''\n",
    "    \n",
    "    def __init__(self,x,y):\n",
    "        self.x=x\n",
    "        self.y=y\n",
    "    def add(arg):\n",
    "        '''addition'''\n",
    "        z=arg.x+arg.y\n",
    "        return z\n",
    "    def rms(par):\n",
    "        '''square root of x and y'''\n",
    "        import math\n",
    "        d=math.sqrt(par.x**2+par.y**2)\n",
    "        return d\n"
   ]
  },
  {
   "cell_type": "code",
   "execution_count": 183,
   "id": "2c0a7051",
   "metadata": {},
   "outputs": [],
   "source": [
    "f_new=five(3,7)"
   ]
  },
  {
   "cell_type": "code",
   "execution_count": 184,
   "id": "b3453d63",
   "metadata": {},
   "outputs": [
    {
     "data": {
      "text/plain": [
       "3"
      ]
     },
     "execution_count": 184,
     "metadata": {},
     "output_type": "execute_result"
    }
   ],
   "source": [
    "f_new.x #retrun from init methods"
   ]
  },
  {
   "cell_type": "code",
   "execution_count": 185,
   "id": "4133f6c3",
   "metadata": {},
   "outputs": [
    {
     "data": {
      "text/plain": [
       "7"
      ]
     },
     "execution_count": 185,
     "metadata": {},
     "output_type": "execute_result"
    }
   ],
   "source": [
    "f_new.y  #return from init methods"
   ]
  },
  {
   "cell_type": "code",
   "execution_count": 186,
   "id": "dce6e8c8",
   "metadata": {},
   "outputs": [
    {
     "data": {
      "text/plain": [
       "10"
      ]
     },
     "execution_count": 186,
     "metadata": {},
     "output_type": "execute_result"
    }
   ],
   "source": [
    "f_new.add() #result from def add methods"
   ]
  },
  {
   "cell_type": "code",
   "execution_count": 187,
   "id": "c071097d",
   "metadata": {},
   "outputs": [
    {
     "data": {
      "text/plain": [
       "7.615773105863909"
      ]
     },
     "execution_count": 187,
     "metadata": {},
     "output_type": "execute_result"
    }
   ],
   "source": [
    "f_new.rms() #result of def rms methods"
   ]
  },
  {
   "cell_type": "code",
   "execution_count": 188,
   "id": "8b183102",
   "metadata": {},
   "outputs": [],
   "source": [
    "#the class six is a child class of parent five\n",
    "\n",
    "class six(five):\n",
    "    pass"
   ]
  },
  {
   "cell_type": "code",
   "execution_count": 189,
   "id": "95ea49ab",
   "metadata": {},
   "outputs": [],
   "source": [
    "f_six=six(10,10)"
   ]
  },
  {
   "cell_type": "code",
   "execution_count": 190,
   "id": "b79ecc85",
   "metadata": {},
   "outputs": [
    {
     "data": {
      "text/plain": [
       "20"
      ]
     },
     "execution_count": 190,
     "metadata": {},
     "output_type": "execute_result"
    }
   ],
   "source": [
    "f_six.add()"
   ]
  },
  {
   "cell_type": "code",
   "execution_count": 191,
   "id": "90fb0980",
   "metadata": {},
   "outputs": [
    {
     "data": {
      "text/plain": [
       "14.142135623730951"
      ]
     },
     "execution_count": 191,
     "metadata": {},
     "output_type": "execute_result"
    }
   ],
   "source": [
    "f_six.rms()"
   ]
  },
  {
   "cell_type": "code",
   "execution_count": 192,
   "id": "d3392aa6",
   "metadata": {},
   "outputs": [],
   "source": [
    "#variables inherited\n",
    "\n",
    "class Six(five):\n",
    "    '''this is a child class'''\n",
    "    def __init__(self,x,y):\n",
    "        #from the parent class\n",
    "        five.__init__(self,x,y)\n",
    "        self.z=self.x*self.y  #adding another variable z inside five"
   ]
  },
  {
   "cell_type": "code",
   "execution_count": 193,
   "id": "4f120485",
   "metadata": {},
   "outputs": [],
   "source": [
    "f_child=Six(15,15)"
   ]
  },
  {
   "cell_type": "code",
   "execution_count": 194,
   "id": "38471631",
   "metadata": {},
   "outputs": [
    {
     "data": {
      "text/plain": [
       "30"
      ]
     },
     "execution_count": 194,
     "metadata": {},
     "output_type": "execute_result"
    }
   ],
   "source": [
    "f_child.add()"
   ]
  },
  {
   "cell_type": "code",
   "execution_count": 195,
   "id": "86981a14",
   "metadata": {},
   "outputs": [
    {
     "data": {
      "text/plain": [
       "21.213203435596427"
      ]
     },
     "execution_count": 195,
     "metadata": {},
     "output_type": "execute_result"
    }
   ],
   "source": [
    "f_child.rms()"
   ]
  },
  {
   "cell_type": "code",
   "execution_count": 196,
   "id": "d25e7726",
   "metadata": {},
   "outputs": [
    {
     "data": {
      "text/plain": [
       "15"
      ]
     },
     "execution_count": 196,
     "metadata": {},
     "output_type": "execute_result"
    }
   ],
   "source": [
    "f_child.x"
   ]
  },
  {
   "cell_type": "code",
   "execution_count": 197,
   "id": "cef77814",
   "metadata": {},
   "outputs": [
    {
     "data": {
      "text/plain": [
       "15"
      ]
     },
     "execution_count": 197,
     "metadata": {},
     "output_type": "execute_result"
    }
   ],
   "source": [
    "f_child.y"
   ]
  },
  {
   "cell_type": "code",
   "execution_count": 198,
   "id": "8792a221",
   "metadata": {},
   "outputs": [
    {
     "data": {
      "text/plain": [
       "225"
      ]
     },
     "execution_count": 198,
     "metadata": {},
     "output_type": "execute_result"
    }
   ],
   "source": [
    "f_child.z  #return from init methods we define in class Six(five)"
   ]
  },
  {
   "cell_type": "code",
   "execution_count": 199,
   "id": "79fd9d15",
   "metadata": {},
   "outputs": [],
   "source": [
    "# method added in Six(five)\n",
    "\n",
    "class Six(five):\n",
    "    def __init__(self,x,y,z):\n",
    "        five.__init__(self,x,y) #x, y inheited through class five\n",
    "        self.z=z  #z is not inherited\n",
    "    \n",
    "    def sum(self):\n",
    "        sum=self.x+self.y+self.z\n",
    "        return sum\n",
    "    \n",
    "    def square(self):\n",
    "        square=self.x**2+self.y**2+self.z**2\n",
    "        return square\n",
    "    \n"
   ]
  },
  {
   "cell_type": "code",
   "execution_count": 200,
   "id": "609c7324",
   "metadata": {},
   "outputs": [],
   "source": [
    "ans=Six(13,14,15) #object created out of child class"
   ]
  },
  {
   "cell_type": "code",
   "execution_count": 201,
   "id": "7a54b456",
   "metadata": {},
   "outputs": [
    {
     "data": {
      "text/plain": [
       "13"
      ]
     },
     "execution_count": 201,
     "metadata": {},
     "output_type": "execute_result"
    }
   ],
   "source": [
    "ans.x"
   ]
  },
  {
   "cell_type": "code",
   "execution_count": 202,
   "id": "0a34d9f5",
   "metadata": {},
   "outputs": [
    {
     "data": {
      "text/plain": [
       "(13, 14, 15)"
      ]
     },
     "execution_count": 202,
     "metadata": {},
     "output_type": "execute_result"
    }
   ],
   "source": [
    "ans.x,ans.y,ans.z"
   ]
  },
  {
   "cell_type": "code",
   "execution_count": 203,
   "id": "962cce8f",
   "metadata": {},
   "outputs": [
    {
     "data": {
      "text/plain": [
       "42"
      ]
     },
     "execution_count": 203,
     "metadata": {},
     "output_type": "execute_result"
    }
   ],
   "source": [
    "ans.sum()"
   ]
  },
  {
   "cell_type": "code",
   "execution_count": 204,
   "id": "4a8c22ef",
   "metadata": {},
   "outputs": [
    {
     "data": {
      "text/plain": [
       "590"
      ]
     },
     "execution_count": 204,
     "metadata": {},
     "output_type": "execute_result"
    }
   ],
   "source": [
    "ans.square()"
   ]
  },
  {
   "cell_type": "code",
   "execution_count": 205,
   "id": "6baa1176",
   "metadata": {},
   "outputs": [
    {
     "name": "stdout",
     "output_type": "stream",
     "text": [
      "1\n",
      "2\n",
      "3\n",
      "4\n",
      "5\n"
     ]
    }
   ],
   "source": [
    "# iterator\n",
    "\n",
    "x=[1,2,3,4,5]\n",
    "for i in x:\n",
    "    #print(x[i])\n",
    "    print(x[i-1])"
   ]
  },
  {
   "cell_type": "code",
   "execution_count": 206,
   "id": "37c2af62",
   "metadata": {},
   "outputs": [
    {
     "name": "stdout",
     "output_type": "stream",
     "text": [
      "1\n",
      "2\n",
      "3\n",
      "4\n",
      "5\n"
     ]
    }
   ],
   "source": [
    "for i in range(1,6):\n",
    "    series=x[i-1]\n",
    "    print(series)"
   ]
  },
  {
   "cell_type": "code",
   "execution_count": 207,
   "id": "383fa6fc",
   "metadata": {},
   "outputs": [],
   "source": [
    "xit=iter(x) # make an iterator"
   ]
  },
  {
   "cell_type": "code",
   "execution_count": 208,
   "id": "451d3674",
   "metadata": {},
   "outputs": [
    {
     "data": {
      "text/plain": [
       "1"
      ]
     },
     "execution_count": 208,
     "metadata": {},
     "output_type": "execute_result"
    }
   ],
   "source": [
    "next(xit)"
   ]
  },
  {
   "cell_type": "code",
   "execution_count": 209,
   "id": "51102b8c",
   "metadata": {},
   "outputs": [
    {
     "data": {
      "text/plain": [
       "2"
      ]
     },
     "execution_count": 209,
     "metadata": {},
     "output_type": "execute_result"
    }
   ],
   "source": [
    "next(xit)"
   ]
  },
  {
   "cell_type": "code",
   "execution_count": 210,
   "id": "6b27290d",
   "metadata": {},
   "outputs": [
    {
     "data": {
      "text/plain": [
       "3"
      ]
     },
     "execution_count": 210,
     "metadata": {},
     "output_type": "execute_result"
    }
   ],
   "source": [
    "next(xit)"
   ]
  },
  {
   "cell_type": "code",
   "execution_count": 211,
   "id": "a693e913",
   "metadata": {},
   "outputs": [
    {
     "data": {
      "text/plain": [
       "4"
      ]
     },
     "execution_count": 211,
     "metadata": {},
     "output_type": "execute_result"
    }
   ],
   "source": [
    "next(xit)"
   ]
  },
  {
   "cell_type": "code",
   "execution_count": 212,
   "id": "d46d8f62",
   "metadata": {},
   "outputs": [
    {
     "data": {
      "text/plain": [
       "5"
      ]
     },
     "execution_count": 212,
     "metadata": {},
     "output_type": "execute_result"
    }
   ],
   "source": [
    "next(xit)"
   ]
  },
  {
   "cell_type": "code",
   "execution_count": 213,
   "id": "4d423515",
   "metadata": {},
   "outputs": [],
   "source": [
    "#to create an iterator object:\n",
    "\n",
    "class numbers:\n",
    "    def __init__(self,n):\n",
    "        self.i=0\n",
    "        self.n=n\n",
    "    def __iter__(self):\n",
    "        return self\n",
    "    def next(self):\n",
    "        if self.i<self.n:\n",
    "            i=self.i\n",
    "            self.i+=1\n",
    "            return i\n",
    "        else:\n",
    "            raise StopIteration()"
   ]
  },
  {
   "cell_type": "code",
   "execution_count": 214,
   "id": "50ffe2be",
   "metadata": {},
   "outputs": [],
   "source": [
    "X=numbers(4)"
   ]
  },
  {
   "cell_type": "code",
   "execution_count": 140,
   "id": "ae060393",
   "metadata": {},
   "outputs": [
    {
     "data": {
      "text/plain": [
       "0"
      ]
     },
     "execution_count": 140,
     "metadata": {},
     "output_type": "execute_result"
    }
   ],
   "source": [
    "X.next()"
   ]
  },
  {
   "cell_type": "code",
   "execution_count": 141,
   "id": "c3526c40",
   "metadata": {},
   "outputs": [
    {
     "data": {
      "text/plain": [
       "1"
      ]
     },
     "execution_count": 141,
     "metadata": {},
     "output_type": "execute_result"
    }
   ],
   "source": [
    "X.next()"
   ]
  },
  {
   "cell_type": "code",
   "execution_count": 142,
   "id": "9ea3d13a",
   "metadata": {},
   "outputs": [
    {
     "data": {
      "text/plain": [
       "2"
      ]
     },
     "execution_count": 142,
     "metadata": {},
     "output_type": "execute_result"
    }
   ],
   "source": [
    "X.next()"
   ]
  },
  {
   "cell_type": "code",
   "execution_count": 143,
   "id": "51cc06d1",
   "metadata": {},
   "outputs": [
    {
     "data": {
      "text/plain": [
       "3"
      ]
     },
     "execution_count": 143,
     "metadata": {},
     "output_type": "execute_result"
    }
   ],
   "source": [
    "X.next()"
   ]
  },
  {
   "cell_type": "markdown",
   "id": "8664100f",
   "metadata": {},
   "source": [
    "X.next()"
   ]
  },
  {
   "cell_type": "code",
   "execution_count": 215,
   "id": "b611371f",
   "metadata": {},
   "outputs": [],
   "source": [
    "#importing file as a module\n",
    "\n",
    "import five  #five.py is a python file should be in the same working directory\n",
    "             #pive.py uploaded\n"
   ]
  },
  {
   "cell_type": "code",
   "execution_count": 216,
   "id": "4d043e3c",
   "metadata": {},
   "outputs": [],
   "source": [
    "check=five.five(1000,2000) #five.five means first five is the module, next five is the class"
   ]
  },
  {
   "cell_type": "code",
   "execution_count": 217,
   "id": "c4a79bdc",
   "metadata": {},
   "outputs": [
    {
     "data": {
      "text/plain": [
       "3000"
      ]
     },
     "execution_count": 217,
     "metadata": {},
     "output_type": "execute_result"
    }
   ],
   "source": [
    "check.add() #add is the method defined inside the class"
   ]
  },
  {
   "cell_type": "code",
   "execution_count": 218,
   "id": "0c044a07",
   "metadata": {},
   "outputs": [
    {
     "data": {
      "text/plain": [
       "2236.06797749979"
      ]
     },
     "execution_count": 218,
     "metadata": {},
     "output_type": "execute_result"
    }
   ],
   "source": [
    "check.rms() #rms is the method defined inside the class"
   ]
  },
  {
   "cell_type": "code",
   "execution_count": null,
   "id": "d81576d6",
   "metadata": {},
   "outputs": [],
   "source": []
  },
  {
   "cell_type": "code",
   "execution_count": null,
   "id": "26ef82eb",
   "metadata": {},
   "outputs": [],
   "source": []
  },
  {
   "cell_type": "code",
   "execution_count": null,
   "id": "94db7501",
   "metadata": {},
   "outputs": [],
   "source": []
  }
 ],
 "metadata": {
  "kernelspec": {
   "display_name": "Python 3 (ipykernel)",
   "language": "python",
   "name": "python3"
  },
  "language_info": {
   "codemirror_mode": {
    "name": "ipython",
    "version": 3
   },
   "file_extension": ".py",
   "mimetype": "text/x-python",
   "name": "python",
   "nbconvert_exporter": "python",
   "pygments_lexer": "ipython3",
   "version": "3.10.6"
  }
 },
 "nbformat": 4,
 "nbformat_minor": 5
}
