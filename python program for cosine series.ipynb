{
 "cells": [
  {
   "cell_type": "code",
   "execution_count": null,
   "id": "ac0aa1fb",
   "metadata": {},
   "outputs": [],
   "source": [
    "''' UNM Computatiton Seminar Assignment Fall 2022\n",
    "\n",
    "Pyhton program to compute the cosine series'''"
   ]
  },
  {
   "cell_type": "markdown",
   "id": "9f62b6a2",
   "metadata": {},
   "source": [
    "$$\\cos(x) = 1 - \\frac{x^2}{2!} + \\frac{x^4}{4!} - \\frac{x^6}{6!} +\\frac{x^8}{8!} \\cdots=1-X$$\n",
    "\n",
    "Where, $$X=\\frac{x^2}{2!} -\\frac{x^4}{4!} + \\frac{x^6}{6!} -\\frac{x^8}{8!} \\cdots$$"
   ]
  },
  {
   "cell_type": "code",
   "execution_count": 2,
   "id": "c075e0b8",
   "metadata": {},
   "outputs": [],
   "source": [
    "import numpy as np\n",
    "import math"
   ]
  },
  {
   "cell_type": "code",
   "execution_count": 13,
   "id": "4477b1c4",
   "metadata": {},
   "outputs": [
    {
     "name": "stdout",
     "output_type": "stream",
     "text": [
      "sum of series X is:  0.13397459621556132\n",
      "result of cos(30) is (30 is in degrees):  0.8660254037844387\n"
     ]
    }
   ],
   "source": [
    "#Evaluating the X\n",
    "# sum=X\n",
    "\n",
    "sum=0\n",
    "n=10                      # first 10 terms in X\n",
    "x=np.radians(30)          #angle in radians\n",
    "d=2                       #value of first term in factorial of the denominator\n",
    "a=2                       #x power initial values\n",
    "\n",
    "for i in range(1,n+1):\n",
    "    if i%2==0:\n",
    "        sum=sum-(x**a)/(math.factorial(d))\n",
    "    else:\n",
    "        sum=sum+(x**a)/(math.factorial(d))\n",
    "    a=a+2\n",
    "    d=d+2\n",
    "    \n",
    "print(\"sum of series X is: \", sum)\n",
    "\n",
    "print(\"result of cos(30) is (30 is in degrees): \", 1-sum)\n"
   ]
  },
  {
   "cell_type": "code",
   "execution_count": null,
   "id": "b4d43041",
   "metadata": {},
   "outputs": [],
   "source": [
    "#Checking the result"
   ]
  },
  {
   "cell_type": "code",
   "execution_count": 14,
   "id": "20859ab8",
   "metadata": {},
   "outputs": [],
   "source": [
    "theta=np.radians(30)"
   ]
  },
  {
   "cell_type": "code",
   "execution_count": 15,
   "id": "0cbd585d",
   "metadata": {},
   "outputs": [
    {
     "data": {
      "text/plain": [
       "0.8660254037844387"
      ]
     },
     "execution_count": 15,
     "metadata": {},
     "output_type": "execute_result"
    }
   ],
   "source": [
    "np.cos(theta)"
   ]
  },
  {
   "cell_type": "code",
   "execution_count": null,
   "id": "bf8bf549",
   "metadata": {},
   "outputs": [],
   "source": []
  }
 ],
 "metadata": {
  "kernelspec": {
   "display_name": "Python 3 (ipykernel)",
   "language": "python",
   "name": "python3"
  },
  "language_info": {
   "codemirror_mode": {
    "name": "ipython",
    "version": 3
   },
   "file_extension": ".py",
   "mimetype": "text/x-python",
   "name": "python",
   "nbconvert_exporter": "python",
   "pygments_lexer": "ipython3",
   "version": "3.9.12"
  }
 },
 "nbformat": 4,
 "nbformat_minor": 5
}
