{
 "cells": [
  {
   "cell_type": "markdown",
   "metadata": {
    "slideshow": {
     "slide_type": "subslide"
    }
   },
   "source": [
    "<h1 align=\"center\"> Computation for Scientists </h1>\n",
    "<h2 align=\"center\"> <em> Solving Linear Equations</em> </h2>\n",
    "<h2 align=\"center\" > <a href=\"mailto:duan@unm.edu\">Dr. Duan</a> (UNM) </h2>"
   ]
  },
  {
   "cell_type": "markdown",
   "metadata": {
    "slideshow": {
     "slide_type": "slide"
    }
   },
   "source": [
    "# Systems of Linear Equations\n",
    "- Most of the numerical problems are reduced to solving a system of linear equations,\n",
    "$$\\mathbf{A} \\boldsymbol{x} \n",
    "=\\begin{bmatrix}\n",
    "a_{00} & a_{01} & \\cdots & a_{0,n_1} \\\\\n",
    "a_{10} & a_{11} & \\cdots & a_{1,n_1} \\\\\n",
    "\\vdots & \\vdots & \\ddots & \\vdots \\\\\n",
    "a_{m-1,0} & a_{m-1,1} & \\cdots & a_{m-1,n-1}\n",
    "\\end{bmatrix}\\begin{bmatrix}\n",
    "x_0 \\\\ x_1 \\\\ \\vdots \\\\ x_{n-1}\n",
    "\\end{bmatrix}\n",
    "= \\begin{bmatrix}\n",
    "b_0 \\\\ b_1 \\\\ \\vdots \\\\ b_{m-1}\n",
    "\\end{bmatrix}\n",
    "= \\boldsymbol{b}.$$\n",
    "- For $\\mathbf{A}\\in\\mathbb{R}^{m\\times n}$, the solution exists if $\\boldsymbol{b}\\in\\mathrm{span}(\\mathbf{A})=\\{\\mathbf{A}\\boldsymbol{x}: \\boldsymbol{x}\\in\\mathbb{R}^n\\}$.\n",
    "- If $m=n$, the solution exists and is unique if $\\mathbf{A}$ is _nonsingular_, which implies that $\\mathbf{A}^{-1}$ exists, $\\det(\\mathbf{A})\\neq0$, $\\mathbf{A}$ has rank $n$, and $\\mathbf{A}\\boldsymbol{z}\\neq\\mathbf{0}$ for any nonzero vector $\\boldsymbol{z}$."
   ]
  },
  {
   "cell_type": "markdown",
   "metadata": {
    "slideshow": {
     "slide_type": "subslide"
    }
   },
   "source": [
    "- The [`linalg`](https://docs.scipy.org/doc/scipy/reference/linalg.html) module in SciPy (and NumPy) provides the linear algebra tools for solving linear equations."
   ]
  },
  {
   "cell_type": "code",
   "execution_count": 90,
   "metadata": {},
   "outputs": [
    {
     "name": "stdout",
     "output_type": "stream",
     "text": [
      "||x1-x|| =  4.1926891583631e-13\n",
      "||x2-x|| =  1.699176264859793e-13\n"
     ]
    }
   ],
   "source": [
    "import numpy as np\n",
    "import scipy.linalg as la\n",
    "from numpy.random import rand\n",
    "n = 100 # problem size\n",
    "A = rand(n, n) # random nxn matrix\n",
    "x = rand(n) # true solution\n",
    "b = A @ x # same as np.dot(A, x)\n",
    "\n",
    "x1 = la.inv(A) @ b # x = A^-1 b\n",
    "x2 = la.solve(A, b) # solve x from linear eqs\n",
    "print('||x1-x|| = ', la.norm(x1-x)) # absolute error\n",
    "print('||x2-x|| = ', la.norm(x2-x))"
   ]
  },
  {
   "cell_type": "markdown",
   "metadata": {
    "slideshow": {
     "slide_type": "fragment"
    }
   },
   "source": [
    "- Solving linear equations directly and inverting the matrix, which is faster? "
   ]
  },
  {
   "cell_type": "code",
   "execution_count": 91,
   "metadata": {
    "slideshow": {
     "slide_type": "subslide"
    }
   },
   "outputs": [
    {
     "name": "stdout",
     "output_type": "stream",
     "text": [
      "184 µs ± 4.73 µs per loop (mean ± std. dev. of 7 runs, 10,000 loops each)\n"
     ]
    }
   ],
   "source": [
    "%timeit la.inv(A) @ b"
   ]
  },
  {
   "cell_type": "code",
   "execution_count": 92,
   "metadata": {},
   "outputs": [
    {
     "name": "stdout",
     "output_type": "stream",
     "text": [
      "108 µs ± 183 ns per loop (mean ± std. dev. of 7 runs, 10,000 loops each)\n"
     ]
    }
   ],
   "source": [
    "%timeit la.solve(A, b)"
   ]
  },
  {
   "cell_type": "markdown",
   "metadata": {
    "slideshow": {
     "slide_type": "slide"
    }
   },
   "source": [
    "# Gassian Elimination\n",
    "- The basic technique of solving $\\mathbf{A}\\boldsymbol{x}=\\boldsymbol{b}$ is called _Gaussian elimination_. In the first step, one uses a series of matrices $\\mathbf{M}^{(k)}$ to make $\\mathbf{A}$ upper triangular:\n",
    "$$\\mathbf{M}^{(n-2)}\\cdots\\mathbf{M}^{(0)} \\mathbf{A}\n",
    "=\\mathbf{U}\n",
    "=\\begin{bmatrix} u_{00} & u_{01} & \\cdots & u_{0,n-1} \\\\\n",
    "0 & u_{11} & \\cdots & u_{1,n-1} \\\\\n",
    "\\vdots & \\vdots & \\ddots & \\vdots \\\\\n",
    "0 & 0 & \\cdots & u_{n-1,n-1}\\end{bmatrix}.$$\n",
    "\n",
    "- In the second step, one solves $\\mathbf{U}\\boldsymbol{x}=\\boldsymbol{y} =\\mathbf{M}^{(n-2)}\\cdots\\mathbf{M}^{(0)}\\boldsymbol{b}$ with _backward substitution_:\n",
    "$$x_i = \\begin{cases}\n",
    "y_{n-1}/u_{n-1,n-1} & \\quad\\mathrm{if}\\, i=n-1, \\\\\n",
    "\\left(y_i - \\sum_{j=i+1}^{n-1}u_{ij}x_j\\right)u_{ii}^{-1} & \\quad\\mathrm{otherwise}.\n",
    "\\end{cases}$$"
   ]
  },
  {
   "cell_type": "markdown",
   "metadata": {
    "slideshow": {
     "slide_type": "subslide"
    }
   },
   "source": [
    "- Let $\\mathbf{A}^{(k)}=\\mathbf{M}^{(k-1)}\\cdots\\mathbf{M}^{(0)} \\mathbf{A}$. Then\n",
    "$\\mathbf{M}^{(k)} = \\mathbf{1}-\\boldsymbol{m}^{(k)}\\boldsymbol{e}_k^T$ annhilates the elements of the $k$th column vector of $\\mathbf{A}^{(k)}$ below $a^{(k)}_{kk}$, where $a^{(k)}_{kk}$ is called the _pivot_, and\n",
    "$$\\boldsymbol{m}^{(k)} \n",
    "=\\begin{bmatrix}\n",
    "m^{(k)}_0 \\\\ \\vdots \\\\ m^{(k)}_k \\\\ m^{(k)}_{k+1} \\\\ \\vdots \\\\ m^{(k)}_{n-1}\n",
    "\\end{bmatrix}\n",
    "= \\begin{bmatrix}\n",
    "0 \\\\ \\vdots \\\\ 0  \\\\ a^{(k)}_{k+1,k}/a^{(k)}_{k,k} \\\\ \\vdots \\\\ a^{(k)}_{n-1,k}/a^{(k)}_{k,k}\n",
    "\\end{bmatrix}.$$"
   ]
  },
  {
   "cell_type": "markdown",
   "metadata": {
    "slideshow": {
     "slide_type": "subslide"
    }
   },
   "source": [
    "- It can be shown that\n",
    "\\begin{align*}\n",
    "\\mathbf{L} &= (\\mathbf{M}^{(k-1)}\\cdots\\mathbf{M}^{(0)})^{-1}\n",
    "= \\mathbf{1} + \\sum_{k=0}^{n-2}\\boldsymbol{m}^{(k)}\\boldsymbol{e}_k^T\\\\\n",
    "& = \\begin{bmatrix}\n",
    "1 & 0 & \\cdots & 0 \\\\\n",
    "l_{10} & 1 & \\cdots &0 \\\\\n",
    "\\vdots & \\vdots & \\ddots & \\vdots \\\\\n",
    "l_{n-1,0} & l_{n-1,1} & \\cdots & 1\n",
    "\\end{bmatrix}\n",
    "\\end{align*}\n",
    "is lower triangular. Therefore, \n",
    "$$\\mathbf{A}=\\mathbf{L}\\mathbf{U}.$$ \n",
    "This is known as the _LU factorization_."
   ]
  },
  {
   "cell_type": "markdown",
   "metadata": {
    "slideshow": {
     "slide_type": "subslide"
    }
   },
   "source": [
    "- Explicit LU factorization is useful when many linear systems with the same $\\mathbf{A}$ but different $\\boldsymbol{b}$'s are to be solved.\n",
    "- Given the LU factorization of $\\mathbf{A}$, the first step of Gassian elimination can be achieved by solving $\\mathbf{L}\\boldsymbol{y}=\\boldsymbol{b}$ with _forward substitution_:\n",
    "$$y_i = \\begin{cases}\n",
    "b_0 & \\quad\\mathrm{if}\\, i=0, \\\\\n",
    "b_i - \\sum_{j=0}^{i-1}l_{ij}y_j & \\quad\\mathrm{otherwise}.\n",
    "\\end{cases}$$"
   ]
  },
  {
   "cell_type": "markdown",
   "metadata": {
    "slideshow": {
     "slide_type": "subslide"
    }
   },
   "source": [
    "- Gassian elimination breaks down if the pivot $a^{(k)}_{kk}$ is 0. This can be fixed by permuting the rows of $\\mathbf{A}^{(k)}$, which is known as (partial) pivoting.\n",
    "\n",
    "- Gaussian elimination becomes more stable when the largest pivot is chosen at each step.\n",
    "\n",
    "- $\\mathbf{A}$ is singular if there is no nonzero pivot, but the LU factorization can still be completed."
   ]
  },
  {
   "cell_type": "code",
   "execution_count": 93,
   "metadata": {
    "slideshow": {
     "slide_type": "subslide"
    }
   },
   "outputs": [
    {
     "data": {
      "text/plain": [
       "(2.220446049250313e-16, 3.66205343881779e-15)"
      ]
     },
     "execution_count": 93,
     "metadata": {},
     "output_type": "execute_result"
    }
   ],
   "source": [
    "A = np.array([[2, 5, 8, 7], [5, 2, 2, 8], [7, 5, 6, 6], [5, 4, 4, 8]])\n",
    "lu, piv = la.lu_factor(A) # LU factorization with pivoting\n",
    "b1 = np.array([1, 1, 1, 1])\n",
    "b2 = np.array([1, 2, 3, 4])\n",
    "x1 = la.lu_solve((lu, piv), b1) # solve with LU and pivoting\n",
    "x2 = la.lu_solve((lu, piv), b2)\n",
    "la.norm(A @ x1 - b1), la.norm(A @ x2 - b2)"
   ]
  },
  {
   "cell_type": "markdown",
   "metadata": {
    "slideshow": {
     "slide_type": "subslide"
    }
   },
   "source": [
    "- More efficient algorithms may be implemented if $\\mathbf{A}$ has some special properties. (Check the documentation of [`scipy.linalg`](https://docs.scipy.org/doc/scipy/reference/linalg.html).)\n",
    "    - Symmetric: $\\mathbf{A}=\\mathbf{A}^T$\n",
    "    - Positive definite: $\\mathbf{x}^T\\mathbf{A}\\mathbf{x}>0$ for all $\\mathbf{x}\\neq\\mathbf{0}$\n",
    "    - Banded: $a_{ij}=0$ if $|i-j|>\\beta$, where $\\beta$ is the bandwidth\n",
    "    - Sparse: most $a_{ij}$ are 0.\n",
    "\n",
    "- For example, _Cholesky factorization_ can be performed if $\\mathbf{A}$ is symmetric and positive definite: $\\mathbf{A}=\\mathbf{L}\\mathbf{L}^T$, where $\\mathbf{L}$ is a lower triagnular matrix with positive diagonal entries."
   ]
  },
  {
   "cell_type": "markdown",
   "metadata": {
    "slideshow": {
     "slide_type": "slide"
    }
   },
   "source": [
    "# Linear Least Squares\n",
    "- The linear system $\\mathbf{A}\\mathbf{x}=\\mathbf{y}$ is _overdetermined_ if the size of vector $\\mathbf{y}$ is larger than the size of vector $\\mathbf{x}$.\n",
    "\n",
    "- The _least squares_ solution $\\mathbf{x}$ to $\\mathbf{A}\\mathbf{x}\\simeq\\mathbf{y}$ minimizes the 2-norm of the residual vector $\\mathbf{r}=\\mathbf{y}-\\mathbf{A}\\mathbf{x}$.\n",
    "\n",
    "- Least squares can be used to fit function $f(t, \\mathbf{x}) = \\sum_{i=0}^{n-1} x_i \\phi_i(t)$ to data $(t_i, y_i)$ ($i=0,1,\\ldots,m-1$) by minimizing the 2-norm of:\n",
    "$$\\mathbf{r}\n",
    "=\\begin{bmatrix}y_0 \\\\ y_1 \\\\ \\vdots \\end{bmatrix}\n",
    "-\\begin{bmatrix}\n",
    "\\phi_0(t_0) & \\phi_1(t_0) & \\cdots \\\\\n",
    "\\phi_0(t_1) & \\phi_1(t_1) & \\cdots \\\\\n",
    "\\vdots & \\vdots & \\ddots\\end{bmatrix}\n",
    "\\begin{bmatrix} x_0 \\\\ x_1 \\\\ \\vdots \\end{bmatrix}\n",
    ".$$"
   ]
  },
  {
   "cell_type": "markdown",
   "metadata": {
    "slideshow": {
     "slide_type": "subslide"
    }
   },
   "source": [
    "- SciPy provides [`linalg.lstsq()`](https://docs.scipy.org/doc/scipy/reference/generated/scipy.linalg.lstsq.html#scipy.linalg.lstsq) to find the least squares solution."
   ]
  },
  {
   "cell_type": "code",
   "execution_count": 94,
   "metadata": {
    "slideshow": {
     "slide_type": "-"
    }
   },
   "outputs": [],
   "source": [
    "m = 20 # number of data points\n",
    "t = np.linspace(0, 10, m) # m points in [0, 10]\n",
    "y = 1 + 2*t + t**2 + (rand(m)-0.5) # noisy data points"
   ]
  },
  {
   "cell_type": "code",
   "execution_count": 95,
   "metadata": {},
   "outputs": [],
   "source": [
    "phi = lambda z, n: z**n # basis function\n",
    "n = 3 # number of fitting parameters\n",
    "A = np.empty((m, n)) # construct the matrix for a polynomial fit\n",
    "for i in range(n):\n",
    "    A[:,i] = phi(t, i)\n",
    "x, *_ = la.lstsq(A, y) # *_ catches the rest of the tuple"
   ]
  },
  {
   "cell_type": "code",
   "execution_count": 96,
   "metadata": {
    "slideshow": {
     "slide_type": "subslide"
    }
   },
   "outputs": [
    {
     "data": {
      "image/png": "[encoded data removed]",
      "text/plain": [
       "<Figure size 432x288 with 1 Axes>"
      ]
     },
     "metadata": {
      "needs_background": "light"
     },
     "output_type": "display_data"
    }
   ],
   "source": [
    "import matplotlib.pyplot as plt\n",
    "\n",
    "plt.plot(t, y, 'o', label='data') # plot data points\n",
    "f = lambda z: x[0]*phi(z,0) + x[1]*phi(z,1) + x[2]*phi(z,2) # fitting function\n",
    "plt.plot(t, f(t), label=f'$y={x[0]:.1f}+{x[1]:.1f}* t+{x[2]:.1f}* t^2$')\n",
    "plt.legend()\n",
    "plt.xlabel('$t$')\n",
    "plt.ylabel('$y$')\n",
    "plt.show()"
   ]
  },
  {
   "cell_type": "markdown",
   "metadata": {
    "slideshow": {
     "slide_type": "slide"
    }
   },
   "source": [
    "# QR Factorization\n",
    "\n",
    "- In QR factorization, \n",
    "$$\\mathbf{A}= \\mathbf{Q}\\begin{bmatrix}\\mathbf{R}\\\\\\mathbf{0}\\end{bmatrix}\n",
    "=\\begin{bmatrix}\\mathbf{Q}_1\\ \\mathbf{Q_2}\\end{bmatrix}\n",
    "\\begin{bmatrix}\\mathbf{R}\\\\\\mathbf{0}\\end{bmatrix} = \\mathbf{Q}_1\\mathbf{R},$$\n",
    "where $\\mathbf{Q}$ is a $m\\times m$ orthogonal matrix ($\\mathbf{Q}^T\\mathbf{Q}=\\mathbf{1}$), and $\\mathbf{R}$ is a $n\\times n$ upper triangular matrix.\n",
    "The column vectors of $\\mathbf{Q}_1$ form the orthonormal basis of $\\mathrm{span}(\\mathbf{A})$, and those of $\\mathbf{Q}_2$ are the rest of the orthonormal basis vectors of $\\mathbb{R}^m$ that are orthogonal to $\\mathrm{span}(\\mathbf{A})$."
   ]
  },
  {
   "cell_type": "markdown",
   "metadata": {
    "slideshow": {
     "slide_type": "subslide"
    }
   },
   "source": [
    "- With the QR factorization, the linear least squares problem becomes\n",
    "$$\\mathbf{Q}^T\\mathbf{A}\\mathbf{x} \n",
    "= \\begin{bmatrix}\\mathbf{R}\\\\\\mathbf{0}\\end{bmatrix}\\mathbf{x}\n",
    "\\simeq \\begin{bmatrix}\\mathbf{z}_1\\\\ \\mathbf{z}_2\\end{bmatrix}\n",
    "= \\mathbf{Q}^T \\mathbf{y}.$$\n",
    "The least squares solution $\\mathbf{x}$ can be solved from $\\mathbf{R}\\mathbf{x}=\\mathbf{z}_1 = \\mathbf{Q}_1^T y$ by backward substitution."
   ]
  },
  {
   "cell_type": "markdown",
   "metadata": {
    "slideshow": {
     "slide_type": "subslide"
    }
   },
   "source": [
    "- Explicity QR factorization can be formed using [`scipy.linalg.qr()`](https://docs.scipy.org/doc/scipy/reference/generated/scipy.linalg.qr.html#scipy.linalg.qr) if several least squares problems with the same matrix $\\mathbf{A}$ need to be solved."
   ]
  },
  {
   "cell_type": "code",
   "execution_count": 97,
   "metadata": {},
   "outputs": [
    {
     "name": "stdout",
     "output_type": "stream",
     "text": [
      "least squares: x =  [1.14192603 1.93239496 1.0071455 ]\n",
      "explicity QR: x =  [1.14192603 1.93239496 1.0071455 ]\n"
     ]
    }
   ],
   "source": [
    "Q1, R = la.qr(A, mode='economic') # Q1(m,n) and R(n,n)\n",
    "x2 = la.solve_triangular(R, Q1.T @ y) # R is upper triangular\n",
    "print(\"least squares: x = \", x)\n",
    "print(\"explicity QR: x = \", x2)"
   ]
  },
  {
   "cell_type": "markdown",
   "metadata": {
    "slideshow": {
     "slide_type": "slide"
    }
   },
   "source": [
    "# Singular Value Decomposition (SVD)\n",
    "- Because a real $m\\times n$ matrix $\\mathbf{A}$ maps an arbitrary vector $\\mathbb{R}^n$ to a vector in $\\mathbb{R}^m$, it can be decomposed as\n",
    "$$\\mathbf{A} = \\mathbf{U} \\mathbf{\\Sigma}\\mathbf{V}^T\n",
    "= \\sum_{i=0}^{n-1}\\sigma_i \\mathbf{u}_i\\mathbf{v}_i^T,$$\n",
    "where $\\mathbf{u}_i$ and $\\mathbf{v}_i$ are the column vectors of the $m\\times m$ orthogonal matrix $\\mathbf{U}$ and the $n\\times n$ orthogonal matrix $\\mathbf{V}$, respectively, and $\\mathbf{\\Sigma}$ is a $m\\times n$ diagonal matrix, and its diagonal entries\n",
    "$$\\sigma_0\\geq \\sigma_1 \\geq \\cdots \\geq \\sigma_{n-1}\\geq 0$$\n",
    "are called the _singular values_ of $\\mathbf{A}$."
   ]
  },
  {
   "cell_type": "markdown",
   "metadata": {
    "slideshow": {
     "slide_type": "subslide"
    }
   },
   "source": [
    "- $\\mathrm{rank}(\\mathbf{A}) = $ number of nonzero singular values.\n",
    "    \n",
    "- The _minimum norm solution_ to $\\mathbf{A}\\mathbf{x}\\simeq \\mathbf{y}$ is given by\n",
    "$$\\mathbf{x}=\\sum_{i=0}^{k-1} \\sigma_i^{-1}\\, (\\mathbf{u}_i^T\\cdot\\mathbf{y})\\,\\mathbf{v}_i,$$\n",
    "where $k$ is the number of nonzero singular values of $\\mathbf{A}$. In practice, small signular values can be dropped from the summation for more stability. (What does say about the fitting function?)\n",
    "\n",
    "- SVD is generally more robust than the QR factorization, but is much more expensive."
   ]
  },
  {
   "cell_type": "markdown",
   "metadata": {
    "slideshow": {
     "slide_type": "subslide"
    }
   },
   "source": [
    "- [`scipy.linalg.svd()`](https://docs.scipy.org/doc/scipy/reference/generated/scipy.linalg.svd.html#scipy.linalg.svd) performs the SVD decomposition."
   ]
  },
  {
   "cell_type": "code",
   "execution_count": 98,
   "metadata": {},
   "outputs": [
    {
     "name": "stdout",
     "output_type": "stream",
     "text": [
      "(20, 20) (3,) (3, 3)\n",
      "Singular values:  [209.35260067   6.98334195   1.52382865]\n",
      "least squares: x =  [1.14192603 1.93239496 1.0071455 ]\n",
      "SVD: x =  [1.14192603 1.93239496 1.0071455 ]\n"
     ]
    }
   ],
   "source": [
    "U, s, Vt = la.svd(A)\n",
    "print(U.shape, s.shape, Vt.shape)\n",
    "print(\"Singular values: \", s)\n",
    "# compute the least squares solution using SVD\n",
    "x3 = np.zeros(n) \n",
    "smin = 1e-5*s[0] # minimum signular value to include\n",
    "for i in range(n):\n",
    "    if s[i] < smin: break\n",
    "    x3 += ((U[:,i] @ y) / s[i]) * Vt[i,:]\n",
    "\n",
    "print(\"least squares: x = \", x)\n",
    "print(\"SVD: x = \", x3)"
   ]
  },
  {
   "cell_type": "markdown",
   "metadata": {
    "slideshow": {
     "slide_type": "slide"
    }
   },
   "source": [
    "# Reading\n",
    "- Read the relevant sections of Chapter 5 in [Numerical Python : Scientific Computing and Data Science Applications with Numpy, SciPy and Matplotlib](https://www.oreilly.com/library/view/numerical-python/9781484242469/).\n",
    "\n",
    "# Coding\n",
    "- Implement a function to compute the inverse of an arbitrary square matrix using  `lu_factor()` and `lu_solve()` in `scipy.linalg`. Document and validate the function. (Hint: For $\\mathbf{A}\\mathbf{X}=\\mathbf{1}$, you can treat $\\mathbf{X}$ and $\\mathbf{1}$ as collections of column vectors. `numpy.eye(n)` returns a $n\\times n$ identity matrix.)\n",
    "\n",
    "- The _pseudoinverse_ of a $m\\times n$ real matrix $\\mathbf{A}$ can be written as\n",
    "$$\\mathbf{A}^+ = \\mathbf{V}\\mathbf{\\Sigma}^+\\mathbf{U}^T,$$\n",
    "where $\\mathbf{\\Sigma}^+$ is a $n\\times m$ diagonal matrix with the first $k$ diagonal values being $1/\\sigma_i$ ($\\sigma_i\\neq0)$ and the rest being 0. Write a function to compute the pseudoinverse of an arbitrary real matrix. Validate that it produces the inverse of a nonsingular square matrix. Show how it may be used to solve the least squares problem. You may find `numpy.outer()` useful."
   ]
  },
  {
   "cell_type": "code",
   "execution_count": null,
   "metadata": {},
   "outputs": [],
   "source": []
  },
  {
   "cell_type": "code",
   "execution_count": 295,
   "metadata": {},
   "outputs": [
    {
     "name": "stdout",
     "output_type": "stream",
     "text": [
      "[[0 9 8]\n",
      " [1 3 1]\n",
      " [7 8 7]]\n"
     ]
    }
   ],
   "source": [
    "import numpy as np\n",
    "  \n",
    "# 1st argument --> numbers ranging from 0 to 9, \n",
    "# 2nd argument, row = 3, col = 3\n",
    "B = np.random.randint(10, size=(3, 3))  \n",
    "print(B)\n"
   ]
  },
  {
   "cell_type": "code",
   "execution_count": 296,
   "metadata": {},
   "outputs": [],
   "source": [
    "b=np.random.randint(10, size=(3))  #generating an array using rand"
   ]
  },
  {
   "cell_type": "code",
   "execution_count": 297,
   "metadata": {},
   "outputs": [],
   "source": [
    "P,L,U=la.lu(B)"
   ]
  },
  {
   "cell_type": "code",
   "execution_count": 298,
   "metadata": {},
   "outputs": [
    {
     "name": "stdout",
     "output_type": "stream",
     "text": [
      "[[0. 1. 0.]\n",
      " [0. 0. 1.]\n",
      " [1. 0. 0.]]\n"
     ]
    }
   ],
   "source": [
    "print(P) #permuation matrix"
   ]
  },
  {
   "cell_type": "code",
   "execution_count": 299,
   "metadata": {},
   "outputs": [
    {
     "name": "stdout",
     "output_type": "stream",
     "text": [
      "[[1.         0.         0.        ]\n",
      " [0.         1.         0.        ]\n",
      " [0.14285714 0.20634921 1.        ]]\n"
     ]
    }
   ],
   "source": [
    "print(L) #lower triangular matrix"
   ]
  },
  {
   "cell_type": "code",
   "execution_count": 300,
   "metadata": {},
   "outputs": [
    {
     "name": "stdout",
     "output_type": "stream",
     "text": [
      "[[ 7.          8.          7.        ]\n",
      " [ 0.          9.          8.        ]\n",
      " [ 0.          0.         -1.65079365]]\n"
     ]
    }
   ],
   "source": [
    "print(U) #upper triangular matrix"
   ]
  },
  {
   "cell_type": "code",
   "execution_count": 301,
   "metadata": {},
   "outputs": [
    {
     "name": "stdout",
     "output_type": "stream",
     "text": [
      "[[7. 8. 7.]\n",
      " [0. 9. 8.]\n",
      " [1. 3. 1.]]\n"
     ]
    }
   ],
   "source": [
    "print(L@U)"
   ]
  },
  {
   "cell_type": "code",
   "execution_count": 302,
   "metadata": {},
   "outputs": [],
   "source": [
    "L = np.dot(P,L) \n",
    "L_inv = la.inv(L)\n",
    "U_inv = la.inv(U)\n",
    "B_inv = np.dot(U_inv,L_inv)"
   ]
  },
  {
   "cell_type": "code",
   "execution_count": 303,
   "metadata": {},
   "outputs": [
    {
     "name": "stdout",
     "output_type": "stream",
     "text": [
      "[[-1.25000000e-01 -9.61538462e-03  1.44230769e-01]\n",
      " [-1.38777878e-17  5.38461538e-01 -7.69230769e-02]\n",
      " [ 1.25000000e-01 -6.05769231e-01  8.65384615e-02]]\n"
     ]
    }
   ],
   "source": [
    "print(B_inv)"
   ]
  },
  {
   "cell_type": "markdown",
   "metadata": {},
   "source": [
    "SVD: $B=UdV^{T}$"
   ]
  },
  {
   "cell_type": "code",
   "execution_count": 304,
   "metadata": {},
   "outputs": [],
   "source": [
    "U, d, VT = la.svd(B) #SVD "
   ]
  },
  {
   "cell_type": "code",
   "execution_count": 305,
   "metadata": {},
   "outputs": [
    {
     "data": {
      "text/plain": [
       "array([[-0.67175804,  0.73233789,  0.11145559],\n",
       "       [-0.18125087, -0.01660822, -0.98329664],\n",
       "       [-0.71825431, -0.68073885,  0.14389359]])"
      ]
     },
     "execution_count": 305,
     "metadata": {},
     "output_type": "execute_result"
    }
   ],
   "source": [
    "U"
   ]
  },
  {
   "cell_type": "code",
   "execution_count": 306,
   "metadata": {},
   "outputs": [
    {
     "data": {
      "text/plain": [
       "array([17.06760597,  5.02243754,  1.21323851])"
      ]
     },
     "execution_count": 306,
     "metadata": {},
     "output_type": "execute_result"
    }
   ],
   "source": [
    "d"
   ]
  },
  {
   "cell_type": "code",
   "execution_count": 307,
   "metadata": {},
   "outputs": [
    {
     "data": {
      "text/plain": [
       "array([[-0.30519987, -0.72274984, -0.62006912],\n",
       "       [-0.95208354,  0.21808248,  0.21442238],\n",
       "       [ 0.01974753, -0.65579929,  0.75467697]])"
      ]
     },
     "execution_count": 307,
     "metadata": {},
     "output_type": "execute_result"
    }
   ],
   "source": [
    "VT"
   ]
  },
  {
   "cell_type": "markdown",
   "metadata": {},
   "source": [
    "Pseudoinverse $A^{+}=Vd^{+}U^{T}$"
   ]
  },
  {
   "cell_type": "code",
   "execution_count": 308,
   "metadata": {},
   "outputs": [],
   "source": [
    "d=np.diag(d)  #to create s^+ first we invert non zeros values of s \n",
    "              # to do we diagonalize s and then invert S and then we take the transpose of the resulting matrix.\n",
    "              #however it can be done in a single step  with inverting S because it is diagonal"
   ]
  },
  {
   "cell_type": "code",
   "execution_count": 309,
   "metadata": {},
   "outputs": [],
   "source": [
    "dinv=la.inv(d)"
   ]
  },
  {
   "cell_type": "code",
   "execution_count": 310,
   "metadata": {},
   "outputs": [
    {
     "data": {
      "text/plain": [
       "array([[ 0.05859053,  0.        , -0.        ],\n",
       "       [ 0.        ,  0.19910651, -0.        ],\n",
       "       [ 0.        ,  0.        ,  0.82424024]])"
      ]
     },
     "execution_count": 310,
     "metadata": {},
     "output_type": "execute_result"
    }
   ],
   "source": [
    "dinv"
   ]
  },
  {
   "cell_type": "code",
   "execution_count": 311,
   "metadata": {},
   "outputs": [],
   "source": [
    "B_pseudoinv=np.dot(VT.T,np.dot(dinv,U.T))  #pseudoinverse A^+=Vs^+U^T"
   ]
  },
  {
   "cell_type": "code",
   "execution_count": 312,
   "metadata": {},
   "outputs": [
    {
     "data": {
      "text/plain": [
       "array([[-1.25000000e-01, -9.61538462e-03,  1.44230769e-01],\n",
       "       [-6.93889390e-18,  5.38461538e-01, -7.69230769e-02],\n",
       "       [ 1.25000000e-01, -6.05769231e-01,  8.65384615e-02]])"
      ]
     },
     "execution_count": 312,
     "metadata": {},
     "output_type": "execute_result"
    }
   ],
   "source": [
    "B_pseudoinv"
   ]
  },
  {
   "cell_type": "code",
   "execution_count": 313,
   "metadata": {},
   "outputs": [],
   "source": [
    "pseudoinverse_B=la.pinv(B)  #checking with python bulit library"
   ]
  },
  {
   "cell_type": "code",
   "execution_count": 314,
   "metadata": {},
   "outputs": [
    {
     "data": {
      "text/plain": [
       "array([[-1.25000000e-01, -9.61538462e-03,  1.44230769e-01],\n",
       "       [-6.93889390e-18,  5.38461538e-01, -7.69230769e-02],\n",
       "       [ 1.25000000e-01, -6.05769231e-01,  8.65384615e-02]])"
      ]
     },
     "execution_count": 314,
     "metadata": {},
     "output_type": "execute_result"
    }
   ],
   "source": [
    "\n",
    "pseudoinverse_B"
   ]
  },
  {
   "cell_type": "code",
   "execution_count": null,
   "metadata": {},
   "outputs": [],
   "source": []
  }
 ],
 "metadata": {
  "celltoolbar": "Slideshow",
  "kernelspec": {
   "display_name": "Python 3 (ipykernel)",
   "language": "python",
   "name": "python3"
  },
  "language_info": {
   "codemirror_mode": {
    "name": "ipython",
    "version": 3
   },
   "file_extension": ".py",
   "mimetype": "text/x-python",
   "name": "python",
   "nbconvert_exporter": "python",
   "pygments_lexer": "ipython3",
   "version": "3.10.11"
  },
  "vscode": {
   "interpreter": {
    "hash": "aa3dd84ef0f650d9d8b867844db5a915f08cb58b5d6dab20fc53865ee0283ae4"
   }
  }
 },
 "nbformat": 4,
 "nbformat_minor": 2
}
